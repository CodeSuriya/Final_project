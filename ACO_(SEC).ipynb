{
 "cells": [
  {
   "cell_type": "code",
   "execution_count": 1,
   "id": "94171f1b-9276-490a-8f1e-3ac25a63446c",
   "metadata": {},
   "outputs": [],
   "source": [
    "import numpy as np\n",
    "\n",
    "def aco(distance_matrix, time_matrix, num_ants, num_iterations, alpha, beta, evaporation_rate):\n",
    "    \"\"\"\n",
    "    Ant Colony Optimization (ACO) algorithm to find the best delivery route.\n",
    "\n",
    "    Parameters:\n",
    "        distance_matrix (numpy.ndarray): Matrix containing distances between locations.\n",
    "        time_matrix (numpy.ndarray): Matrix containing travel times between locations.\n",
    "        num_ants (int): Number of ants used in the algorithm.\n",
    "        num_iterations (int): Number of iterations for ACO.\n",
    "        alpha (float): Influence of pheromone trails.\n",
    "        beta (float): Influence of heuristic information (distance).\n",
    "        evaporation_rate (float): Rate of pheromone evaporation.\n",
    "\n",
    "    Returns:\n",
    "        best_route (list): The best route found.\n",
    "        best_distance (float): The shortest distance found.\n",
    "        best_time (float): The shortest time found.\n",
    "    \"\"\"\n",
    "\n",
    "    # Number of nodes (locations)\n",
    "    num_nodes = distance_matrix.shape[0]\n",
    "    \n",
    "    # Initialize pheromone matrix with ones\n",
    "    pheromone_matrix = np.ones((num_nodes, num_nodes))\n",
    "\n",
    "    # Initialize variables to store the best route, distance, and time\n",
    "    best_route = []\n",
    "    best_distance = float('inf')\n",
    "    best_time = float('inf')\n",
    "\n",
    "    return best_route, best_distance, best_time\n"
   ]
  },
  {
   "cell_type": "code",
   "execution_count": 7,
   "id": "64946c8c-c70d-4a1f-9dd0-0ed21f8b4647",
   "metadata": {},
   "outputs": [],
   "source": [
    "num_iterations = 200  # Set the number of iterations\n"
   ]
  },
  {
   "cell_type": "code",
   "execution_count": 9,
   "id": "c2011f31-90ae-4be5-93fd-f795565252da",
   "metadata": {},
   "outputs": [],
   "source": [
    "import numpy as np\n",
    "\n",
    "# Define parameters\n",
    "num_iterations = 200  # Number of iterations for ACO\n",
    "num_ants = 50         # Number of ants\n",
    "num_nodes = 10        # Example number of locations (Change based on actual data)\n",
    "\n",
    "# Main loop for iterations\n",
    "for iteration in range(num_iterations):\n",
    "    # Initialize arrays to store routes and their lengths/times for each ant\n",
    "    all_routes = np.zeros((num_ants, num_nodes), dtype=int)\n",
    "    all_route_lengths = np.zeros(num_ants)\n",
    "    all_route_times = np.zeros(num_ants)\n"
   ]
  },
  {
   "cell_type": "code",
   "execution_count": 11,
   "id": "8a730db3-bd7f-46fb-9d50-20db9af99537",
   "metadata": {},
   "outputs": [],
   "source": [
    "num_ants = 50  # Set the number of ants\n"
   ]
  },
  {
   "cell_type": "code",
   "execution_count": 13,
   "id": "555c9219-4c5a-46e8-b978-72289fb4eee7",
   "metadata": {},
   "outputs": [],
   "source": [
    "import numpy as np\n",
    "\n",
    "# Define parameters\n",
    "num_ants = 50         # Number of ants\n",
    "num_nodes = 10        # Example number of locations (Change based on actual data)\n",
    "\n",
    "# Loop over each ant\n",
    "for ant in range(num_ants):\n",
    "    # Initialize the visited nodes array\n",
    "    visited = np.zeros(num_nodes, dtype=bool)  # Keep track of visited nodes\n",
    "    \n",
    "    # Start from the restaurant node\n",
    "    current_node = 0  # Assuming restaurant is at index 0\n",
    "    visited[current_node] = True\n",
    "\n",
    "    # Initialize the route\n",
    "    route = np.zeros(num_nodes, dtype=int)\n",
    "    route[0] = current_node\n"
   ]
  },
  {
   "cell_type": "markdown",
   "id": "84cdeae0-9c0c-40a8-b927-38e6287a5355",
   "metadata": {},
   "source": [
    "4. Construct the Route for the Ant"
   ]
  },
  {
   "cell_type": "code",
   "execution_count": 16,
   "id": "0556a36c-faa0-4977-bf53-122680b0072c",
   "metadata": {},
   "outputs": [],
   "source": [
    "import numpy as np\n",
    "\n",
    "# Example parameters (Ensure they are defined in your actual implementation)\n",
    "num_nodes = 10  # Number of locations\n",
    "num_ants = 50  # Number of ants\n",
    "alpha = 1.0  # Pheromone influence\n",
    "beta = 2.0  # Distance influence\n",
    "distance_matrix = np.random.rand(num_nodes, num_nodes)  # Example distance matrix\n",
    "time_matrix = np.random.rand(num_nodes, num_nodes)  # Example time matrix\n",
    "pheromone_matrix = np.ones((num_nodes, num_nodes))  # Initialize pheromone matrix\n",
    "\n",
    "# Arrays to store routes, distances, and times\n",
    "all_routes = np.zeros((num_ants, num_nodes), dtype=int)\n",
    "all_route_lengths = np.zeros(num_ants)\n",
    "all_route_times = np.zeros(num_ants)\n",
    "\n",
    "# Loop over each ant\n",
    "for ant in range(num_ants):\n",
    "    # Keep track of visited nodes\n",
    "    visited = np.zeros(num_nodes, dtype=bool)\n",
    "\n",
    "    # Start from the restaurant node (assuming index 0)\n",
    "    current_node = 0\n",
    "    visited[current_node] = True\n",
    "\n",
    "    # Initialize the route\n",
    "    route = np.zeros(num_nodes, dtype=int)\n",
    "    route[0] = current_node\n",
    "\n",
    "    # Construct the route\n",
    "    for step in range(1, num_nodes):\n",
    "        # Calculate probabilities for the next node\n",
    "        prob = (pheromone_matrix[current_node, :] ** alpha) * ((1.0 / distance_matrix[current_node, :]) ** beta)\n",
    "\n",
    "        # Set probabilities of visited nodes to zero\n",
    "        prob[visited] = 0  \n",
    "\n",
    "        # Normalize probabilities\n",
    "        if np.sum(prob) > 0:\n",
    "            prob = prob / np.sum(prob)\n",
    "\n",
    "            # Select the next node based on probabilities\n",
    "            next_node = np.where(np.cumsum(prob) >= np.random.rand())[0][0]\n",
    "        else:\n",
    "            # If no valid next node, select randomly from remaining nodes\n",
    "            remaining_nodes = np.where(~visited)[0]\n",
    "            next_node = np.random.choice(remaining_nodes)\n",
    "\n",
    "        # Update route and visited nodes\n",
    "        route[step] = next_node\n",
    "        visited[next_node] = True\n",
    "        current_node = next_node\n",
    "\n",
    "    # Store the route and its length/time\n",
    "    all_routes[ant, :] = route\n",
    "    all_route_lengths[ant] = np.sum(distance_matrix[route[:-1], route[1:]])\n",
    "    all_route_times[ant] = np.sum(time_matrix[route[:-1], route[1:]])\n"
   ]
  },
  {
   "cell_type": "markdown",
   "id": "d1587058-36ff-46f8-acd4-984c26d8ee84",
   "metadata": {},
   "source": [
    "5. Update Pheromones"
   ]
  },
  {
   "cell_type": "code",
   "execution_count": 21,
   "id": "410f904b-0bf8-4b7b-a7bd-4c92e448e27c",
   "metadata": {},
   "outputs": [],
   "source": [
    "evaporation_rate = 0.5  # Example value, adjust as needed\n"
   ]
  },
  {
   "cell_type": "code",
   "execution_count": 23,
   "id": "930dd47d-c7c7-40ee-8a24-e459f18ff6e3",
   "metadata": {},
   "outputs": [],
   "source": [
    "# Define evaporation rate (ensure this is set earlier in your script)\n",
    "evaporation_rate = 0.5  # Adjust as needed\n",
    "\n",
    "# Pheromone evaporation\n",
    "pheromone_matrix *= (1 - evaporation_rate)\n",
    "\n",
    "# Update pheromones based on routes found by ants\n",
    "for ant in range(num_ants):\n",
    "    for step in range(num_nodes - 1):\n",
    "        i, j = all_routes[ant, step], all_routes[ant, step + 1]\n",
    "        pheromone_matrix[i, j] += 1 / all_route_lengths[ant]\n"
   ]
  },
  {
   "cell_type": "markdown",
   "id": "762e1ff8-2f47-4b90-b518-0743ec98094c",
   "metadata": {},
   "source": [
    "6. Find the Best Route Based on Distance and Time"
   ]
  },
  {
   "cell_type": "code",
   "execution_count": 28,
   "id": "ba56ee85-c935-459a-9f1e-97d666627285",
   "metadata": {},
   "outputs": [],
   "source": [
    "best_distance = float('inf')  # Initialize with infinity\n",
    "best_time = float('inf')  # Initialize with infinity\n",
    "best_route = None  # Initialize best_route as None or an empty list\n"
   ]
  },
  {
   "cell_type": "code",
   "execution_count": 30,
   "id": "1d139289-a9f3-4299-b8bb-b27bd00ca848",
   "metadata": {},
   "outputs": [],
   "source": [
    "import numpy as np\n",
    "\n",
    "# Initialize best distance, best time, and best route\n",
    "best_distance = float('inf')  \n",
    "best_time = float('inf')  \n",
    "best_route = None  \n",
    "\n",
    "# Find the best route of this iteration based on distance\n",
    "min_length = np.min(all_route_lengths)\n",
    "min_index = np.argmin(all_route_lengths)\n",
    "if min_length < best_distance:\n",
    "    best_distance = min_length\n",
    "    best_route = all_routes[min_index, :]\n",
    "\n",
    "# Find the best route of this iteration based on time\n",
    "min_time = np.min(all_route_times)\n",
    "min_index = np.argmin(all_route_times)\n",
    "if min_time < best_time:\n",
    "    best_time = min_time\n",
    "    best_route = all_routes[min_index, :]\n"
   ]
  },
  {
   "cell_type": "code",
   "execution_count": 32,
   "id": "437d0d4f-c9b9-4baa-a803-783397337fe3",
   "metadata": {},
   "outputs": [
    {
     "name": "stdout",
     "output_type": "stream",
     "text": [
      "Best Route: [0 5 3 2 8 7 1 4 9 6]\n",
      "Best Distance: 0.983934540441214\n",
      "Best Time: 3.6323206242312587\n"
     ]
    }
   ],
   "source": [
    "print(\"Best Route:\", best_route)\n",
    "print(\"Best Distance:\", best_distance)\n",
    "print(\"Best Time:\", best_time)\n"
   ]
  },
  {
   "cell_type": "code",
   "execution_count": null,
   "id": "13d61878-0ca4-4286-9858-5bf7c40b8c23",
   "metadata": {},
   "outputs": [],
   "source": []
  }
 ],
 "metadata": {
  "kernelspec": {
   "display_name": "Python 3 (ipykernel)",
   "language": "python",
   "name": "python3"
  },
  "language_info": {
   "codemirror_mode": {
    "name": "ipython",
    "version": 3
   },
   "file_extension": ".py",
   "mimetype": "text/x-python",
   "name": "python",
   "nbconvert_exporter": "python",
   "pygments_lexer": "ipython3",
   "version": "3.12.4"
  }
 },
 "nbformat": 4,
 "nbformat_minor": 5
}
