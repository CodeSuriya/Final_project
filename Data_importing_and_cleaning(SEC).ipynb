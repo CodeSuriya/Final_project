{
 "cells": [
  {
   "cell_type": "markdown",
   "id": "01352318-7ffa-4fe5-8a0b-c61d8fbe8dc6",
   "metadata": {},
   "source": [
    "Importing, Cleaning, and Preparing Zomato Delivery Data for Analysis"
   ]
  },
  {
   "cell_type": "code",
   "execution_count": 1,
   "id": "b7d29d85-f95c-4001-8fef-197940b741bf",
   "metadata": {},
   "outputs": [],
   "source": [
    "import pandas as pd"
   ]
  },
  {
   "cell_type": "markdown",
   "id": "7edd0a7b-953b-41ab-9c35-f9cd56252af6",
   "metadata": {},
   "source": [
    "1. Importing Data and Setting Options"
   ]
  },
  {
   "cell_type": "code",
   "execution_count": 3,
   "id": "1656f01f-c488-4c5e-95c0-5a86bed0350e",
   "metadata": {},
   "outputs": [
    {
     "name": "stdout",
     "output_type": "stream",
     "text": [
      "   Restaurant_latitude  Restaurant_longitude  Delivery_location_latitude  \\\n",
      "0            12.949934             77.699386                   13.015377   \n",
      "1            12.949934             77.699386                   12.944179   \n",
      "2            12.949934             77.699386                   13.019096   \n",
      "3            12.949934             77.699386                   13.018453   \n",
      "4            12.949934             77.699386                   13.044179   \n",
      "\n",
      "   Delivery_location_longitude  Order_Date Time_Orderd Time_Order_picked  \\\n",
      "0                    77.736664  15-03-2022       14:40             14:50   \n",
      "1                    77.625797  30-03-2022       10:40             10:50   \n",
      "2                    77.680625    3/3/2022       15:35             15:40   \n",
      "3                    77.683685  26-03-2022       15:30             15:45   \n",
      "4                    77.725797    6/4/2022       19:35             19:40   \n",
      "\n",
      "  Weather_conditions Road_traffic_density  Vehicle_condition Type_of_order  \\\n",
      "0                Fog                 High                  0        Drinks   \n",
      "1                Fog                  Low                  0          Meal   \n",
      "2              Sunny               Medium                  2         Snack   \n",
      "3             Stormy               Medium                  0         Snack   \n",
      "4             Cloudy                  Jam                  0          Meal   \n",
      "\n",
      "    Type_of_vehicle  multiple_deliveries Festival           City  \\\n",
      "0        motorcycle                    0       No  Metropolitian   \n",
      "1        motorcycle                    0       No  Metropolitian   \n",
      "2  electric_scooter                    1       No          Urban   \n",
      "3        motorcycle                    1       No  Metropolitian   \n",
      "4        motorcycle                    3       No          Urban   \n",
      "\n",
      "   Time_taken_min  \n",
      "0              21  \n",
      "1              27  \n",
      "2              15  \n",
      "3              16  \n",
      "4              48  \n"
     ]
    }
   ],
   "source": [
    "# Define the CSV file name\n",
    "file_name = \"C:/Users/jsuri/Downloads/D/food/bangalore_zomato_data.csv\"\n",
    "\n",
    "# Read the CSV file with specific data types\n",
    "data = pd.read_csv(file_name, dtype={'Order_Date': 'string', 'Time_Orderd': 'string', 'Time_Order_picked': 'string'})\n",
    "\n",
    "# Display the first few rows\n",
    "print(data.head())\n"
   ]
  },
  {
   "cell_type": "code",
   "execution_count": 7,
   "id": "f3f20388-d2ef-4ef3-bd59-061b2e7e9c89",
   "metadata": {},
   "outputs": [
    {
     "name": "stdout",
     "output_type": "stream",
     "text": [
      "<class 'pandas.core.frame.DataFrame'>\n",
      "RangeIndex: 32 entries, 0 to 31\n",
      "Data columns (total 16 columns):\n",
      " #   Column                       Non-Null Count  Dtype  \n",
      "---  ------                       --------------  -----  \n",
      " 0   Restaurant_latitude          32 non-null     float64\n",
      " 1   Restaurant_longitude         32 non-null     float64\n",
      " 2   Delivery_location_latitude   32 non-null     float64\n",
      " 3   Delivery_location_longitude  32 non-null     float64\n",
      " 4   Order_Date                   32 non-null     string \n",
      " 5   Time_Orderd                  30 non-null     string \n",
      " 6   Time_Order_picked            32 non-null     string \n",
      " 7   Weather_conditions           32 non-null     object \n",
      " 8   Road_traffic_density         32 non-null     object \n",
      " 9   Vehicle_condition            32 non-null     int64  \n",
      " 10  Type_of_order                32 non-null     object \n",
      " 11  Type_of_vehicle              32 non-null     object \n",
      " 12  multiple_deliveries          32 non-null     int64  \n",
      " 13  Festival                     32 non-null     object \n",
      " 14  City                         31 non-null     object \n",
      " 15  Time_taken_min               32 non-null     int64  \n",
      "dtypes: float64(4), int64(3), object(6), string(3)\n",
      "memory usage: 4.1+ KB\n"
     ]
    }
   ],
   "source": [
    "data.info()"
   ]
  },
  {
   "cell_type": "markdown",
   "id": "eb02bc04-774e-4ca9-b1b7-4ec6e285f97a",
   "metadata": {},
   "source": [
    "2. Converting Order Date"
   ]
  },
  {
   "cell_type": "code",
   "execution_count": 9,
   "id": "cf6f9e67-4959-4900-90c8-1acc924e6711",
   "metadata": {},
   "outputs": [],
   "source": [
    "# Convert Order_Date to datetime format (handling different formats)\n",
    "data['Order_Date'] = pd.to_datetime(data['Order_Date'], format='%d-%m-%Y', errors='coerce')\n"
   ]
  },
  {
   "cell_type": "code",
   "execution_count": 19,
   "id": "0b819f9a-0e21-420f-b0a2-b016bead37f5",
   "metadata": {},
   "outputs": [],
   "source": [
    "# Identify invalid/missing dates\n",
    "invalid_dates = data['Order_Date'].isna()\n",
    "\n"
   ]
  },
  {
   "cell_type": "code",
   "execution_count": 21,
   "id": "c55abdbd-caf8-494a-9b42-2b0fd566f60e",
   "metadata": {},
   "outputs": [],
   "source": [
    "# Convert invalid dates using an alternative format\n",
    "data.loc[invalid_dates, 'Order_Date'] = pd.to_datetime(data.loc[invalid_dates, 'Order_Date'], format='%m/%d/%Y', errors='coerce')"
   ]
  },
  {
   "cell_type": "code",
   "execution_count": 23,
   "id": "c3b90a4e-d3af-421c-b05f-6c753faa250a",
   "metadata": {},
   "outputs": [
    {
     "name": "stdout",
     "output_type": "stream",
     "text": [
      "   Restaurant_latitude  Restaurant_longitude  Delivery_location_latitude  \\\n",
      "0            12.949934             77.699386                   13.015377   \n",
      "1            12.949934             77.699386                   12.944179   \n",
      "2            12.949934             77.699386                   13.019096   \n",
      "3            12.949934             77.699386                   13.018453   \n",
      "4            12.949934             77.699386                   13.044179   \n",
      "\n",
      "   Delivery_location_longitude Order_Date Time_Orderd Time_Order_picked  \\\n",
      "0                    77.736664 2022-03-15       14:40             14:50   \n",
      "1                    77.625797 2022-03-30       10:40             10:50   \n",
      "2                    77.680625        NaT       15:35             15:40   \n",
      "3                    77.683685 2022-03-26       15:30             15:45   \n",
      "4                    77.725797        NaT       19:35             19:40   \n",
      "\n",
      "  Weather_conditions Road_traffic_density  Vehicle_condition Type_of_order  \\\n",
      "0                Fog                 High                  0        Drinks   \n",
      "1                Fog                  Low                  0          Meal   \n",
      "2              Sunny               Medium                  2         Snack   \n",
      "3             Stormy               Medium                  0         Snack   \n",
      "4             Cloudy                  Jam                  0          Meal   \n",
      "\n",
      "    Type_of_vehicle  multiple_deliveries Festival           City  \\\n",
      "0        motorcycle                    0       No  Metropolitian   \n",
      "1        motorcycle                    0       No  Metropolitian   \n",
      "2  electric_scooter                    1       No          Urban   \n",
      "3        motorcycle                    1       No  Metropolitian   \n",
      "4        motorcycle                    3       No          Urban   \n",
      "\n",
      "   Time_taken_min  \n",
      "0              21  \n",
      "1              27  \n",
      "2              15  \n",
      "3              16  \n",
      "4              48  \n"
     ]
    }
   ],
   "source": [
    "print(data.head())"
   ]
  },
  {
   "cell_type": "code",
   "execution_count": 25,
   "id": "cbf33790-e6b9-41a1-a54c-211ac12ec560",
   "metadata": {},
   "outputs": [
    {
     "data": {
      "text/plain": [
       "18"
      ]
     },
     "execution_count": 25,
     "metadata": {},
     "output_type": "execute_result"
    }
   ],
   "source": [
    "data['Order_Date'].value_counts().sum()"
   ]
  },
  {
   "cell_type": "code",
   "execution_count": 29,
   "id": "a29b208e-bcda-4fec-bce9-8aa0e2dc3295",
   "metadata": {},
   "outputs": [
    {
     "name": "stderr",
     "output_type": "stream",
     "text": [
      "C:\\Users\\jsuri\\AppData\\Local\\Temp\\ipykernel_22180\\3887877797.py:1: FutureWarning: Series.fillna with 'method' is deprecated and will raise in a future version. Use obj.ffill() or obj.bfill() instead.\n",
      "  data['Order_Date'].fillna(method='ffill', inplace=True)  # Forward Fill\n"
     ]
    }
   ],
   "source": [
    "data['Order_Date'].fillna(method='ffill', inplace=True)  # Forward Fill\n",
    "\n"
   ]
  },
  {
   "cell_type": "code",
   "execution_count": 31,
   "id": "416d32c0-4f02-4e34-9588-44cb6afe75b5",
   "metadata": {},
   "outputs": [
    {
     "name": "stderr",
     "output_type": "stream",
     "text": [
      "C:\\Users\\jsuri\\AppData\\Local\\Temp\\ipykernel_22180\\3310050800.py:1: FutureWarning: Series.fillna with 'method' is deprecated and will raise in a future version. Use obj.ffill() or obj.bfill() instead.\n",
      "  data['Order_Date'].fillna(method='bfill', inplace=True)  # Backward Fill\n"
     ]
    }
   ],
   "source": [
    "data['Order_Date'].fillna(method='bfill', inplace=True)  # Backward Fill"
   ]
  },
  {
   "cell_type": "code",
   "execution_count": 33,
   "id": "f9960bbb-608f-4f6d-aec2-16d01b3058db",
   "metadata": {},
   "outputs": [
    {
     "data": {
      "text/plain": [
       "32"
      ]
     },
     "execution_count": 33,
     "metadata": {},
     "output_type": "execute_result"
    }
   ],
   "source": [
    "data['Order_Date'].value_counts().sum()"
   ]
  },
  {
   "cell_type": "code",
   "execution_count": 35,
   "id": "3689d09a-5632-4ea3-88ef-fc9f0b91787d",
   "metadata": {},
   "outputs": [
    {
     "name": "stdout",
     "output_type": "stream",
     "text": [
      "<class 'pandas.core.frame.DataFrame'>\n",
      "RangeIndex: 32 entries, 0 to 31\n",
      "Data columns (total 16 columns):\n",
      " #   Column                       Non-Null Count  Dtype         \n",
      "---  ------                       --------------  -----         \n",
      " 0   Restaurant_latitude          32 non-null     float64       \n",
      " 1   Restaurant_longitude         32 non-null     float64       \n",
      " 2   Delivery_location_latitude   32 non-null     float64       \n",
      " 3   Delivery_location_longitude  32 non-null     float64       \n",
      " 4   Order_Date                   32 non-null     datetime64[ns]\n",
      " 5   Time_Orderd                  30 non-null     string        \n",
      " 6   Time_Order_picked            32 non-null     string        \n",
      " 7   Weather_conditions           32 non-null     object        \n",
      " 8   Road_traffic_density         32 non-null     object        \n",
      " 9   Vehicle_condition            32 non-null     int64         \n",
      " 10  Type_of_order                32 non-null     object        \n",
      " 11  Type_of_vehicle              32 non-null     object        \n",
      " 12  multiple_deliveries          32 non-null     int64         \n",
      " 13  Festival                     32 non-null     object        \n",
      " 14  City                         31 non-null     object        \n",
      " 15  Time_taken_min               32 non-null     int64         \n",
      "dtypes: datetime64[ns](1), float64(4), int64(3), object(6), string(2)\n",
      "memory usage: 4.1+ KB\n"
     ]
    }
   ],
   "source": [
    "data.info()"
   ]
  },
  {
   "cell_type": "markdown",
   "id": "30752c8b-44bd-42f9-bfe4-ad8708224e97",
   "metadata": {},
   "source": [
    "3. Converting Order and picked time"
   ]
  },
  {
   "cell_type": "code",
   "execution_count": 37,
   "id": "85b27502-3fba-4849-bad8-e8e09ea83524",
   "metadata": {},
   "outputs": [],
   "source": [
    "import numpy as np"
   ]
  },
  {
   "cell_type": "code",
   "execution_count": 39,
   "id": "e52fceda-e9c7-4974-8f08-d7044719ae67",
   "metadata": {},
   "outputs": [],
   "source": [
    "# Convert 'Time_Orderd' and 'Time_Order_picked' to datetime format (HH:mm)\n",
    "data['Time_Orderd'] = pd.to_datetime(data['Time_Orderd'], format='%H:%M', errors='coerce')\n",
    "data['Time_Order_picked'] = pd.to_datetime(data['Time_Order_picked'], format='%H:%M', errors='coerce')"
   ]
  },
  {
   "cell_type": "code",
   "execution_count": 41,
   "id": "c647188d-e80e-4b6d-94d0-066d82e6cc7c",
   "metadata": {},
   "outputs": [
    {
     "name": "stderr",
     "output_type": "stream",
     "text": [
      "C:\\Users\\jsuri\\AppData\\Local\\Temp\\ipykernel_22180\\3643637451.py:2: FutureWarning: A value is trying to be set on a copy of a DataFrame or Series through chained assignment using an inplace method.\n",
      "The behavior will change in pandas 3.0. This inplace method will never work because the intermediate object on which we are setting values always behaves as a copy.\n",
      "\n",
      "For example, when doing 'df[col].method(value, inplace=True)', try using 'df.method({col: value}, inplace=True)' or df[col] = df[col].method(value) instead, to perform the operation inplace on the original object.\n",
      "\n",
      "\n",
      "  data['Time_Order_picked'].fillna(pd.NaT, inplace=True)\n"
     ]
    }
   ],
   "source": [
    "# Handle missing values by replacing them with NaT (same as MATLAB)\n",
    "data['Time_Order_picked'].fillna(pd.NaT, inplace=True)"
   ]
  },
  {
   "cell_type": "code",
   "execution_count": 46,
   "id": "5d26d894-f61c-4a30-9f91-513099e10d42",
   "metadata": {},
   "outputs": [],
   "source": [
    "# Handle numeric time values that might have slipped through\n",
    "# Convert non-null, non-string values to numeric and then to datetime\n",
    "numeric_times = data['Time_Order_picked'].dropna().apply(lambda x: str(x).replace(\":\", \"\")).str.isnumeric()\n",
    "numeric_values = pd.to_numeric(data.loc[numeric_times.index, 'Time_Order_picked'], errors='coerce')"
   ]
  },
  {
   "cell_type": "code",
   "execution_count": 54,
   "id": "9e3da921-a61a-447b-bb81-f246f74fcb8d",
   "metadata": {},
   "outputs": [
    {
     "data": {
      "text/plain": [
       "29"
      ]
     },
     "execution_count": 54,
     "metadata": {},
     "output_type": "execute_result"
    }
   ],
   "source": [
    "data['Time_Order_picked'].value_counts().sum()"
   ]
  },
  {
   "cell_type": "code",
   "execution_count": 58,
   "id": "8f5f20da-b99f-4290-aba0-43a0f7c6e1c6",
   "metadata": {},
   "outputs": [
    {
     "data": {
      "text/plain": [
       "27"
      ]
     },
     "execution_count": 58,
     "metadata": {},
     "output_type": "execute_result"
    }
   ],
   "source": [
    "data['Time_Orderd'].value_counts().sum()"
   ]
  },
  {
   "cell_type": "code",
   "execution_count": 69,
   "id": "c1c19fe5-5ad1-4e94-bf28-bf07b8e0d630",
   "metadata": {},
   "outputs": [
    {
     "data": {
      "text/plain": [
       "0    1900-01-01 14:40:00\n",
       "1    1900-01-01 10:40:00\n",
       "2    1900-01-01 15:35:00\n",
       "3    1900-01-01 15:30:00\n",
       "4    1900-01-01 19:35:00\n",
       "5    1900-01-01 21:25:00\n",
       "6    1900-01-01 22:45:00\n",
       "7    1900-01-01 13:25:00\n",
       "8    1900-01-01 23:25:00\n",
       "9    1900-01-01 18:10:00\n",
       "10                   NaT\n",
       "11   1900-01-01 23:30:00\n",
       "12   1900-01-01 17:40:00\n",
       "13   1900-01-01 10:25:00\n",
       "14                   NaT\n",
       "15                   NaT\n",
       "16   1900-01-01 17:20:00\n",
       "17   1900-01-01 22:50:00\n",
       "18   1900-01-01 23:55:00\n",
       "19   1900-01-01 22:30:00\n",
       "20   1900-01-01 19:45:00\n",
       "21   1900-01-01 20:35:00\n",
       "22   1900-01-01 21:40:00\n",
       "23   1900-01-01 08:10:00\n",
       "24   1900-01-01 17:15:00\n",
       "25   1900-01-01 21:55:00\n",
       "26   1900-01-01 17:45:00\n",
       "27   1900-01-01 20:25:00\n",
       "28                   NaT\n",
       "29                   NaT\n",
       "30   1900-01-01 19:35:00\n",
       "31   1900-01-01 11:35:00\n",
       "Name: Time_Orderd, dtype: datetime64[ns]"
      ]
     },
     "execution_count": 69,
     "metadata": {},
     "output_type": "execute_result"
    }
   ],
   "source": [
    "data['Time_Orderd']"
   ]
  },
  {
   "cell_type": "code",
   "execution_count": 71,
   "id": "b7181d7c-a438-49bc-a19e-b95f8b56cf97",
   "metadata": {},
   "outputs": [
    {
     "data": {
      "text/plain": [
       "0    1900-01-01 14:50:00\n",
       "1    1900-01-01 10:50:00\n",
       "2    1900-01-01 15:40:00\n",
       "3    1900-01-01 15:45:00\n",
       "4    1900-01-01 19:40:00\n",
       "5    1900-01-01 21:35:00\n",
       "6                    NaT\n",
       "7    1900-01-01 13:40:00\n",
       "8    1900-01-01 23:35:00\n",
       "9    1900-01-01 18:20:00\n",
       "10   1900-01-01 22:35:00\n",
       "11   1900-01-01 23:45:00\n",
       "12   1900-01-01 17:50:00\n",
       "13   1900-01-01 10:40:00\n",
       "14   1900-01-01 17:25:00\n",
       "15   1900-01-01 22:05:00\n",
       "16   1900-01-01 17:35:00\n",
       "17                   NaT\n",
       "18                   NaT\n",
       "19   1900-01-01 22:35:00\n",
       "20   1900-01-01 19:55:00\n",
       "21   1900-01-01 20:50:00\n",
       "22   1900-01-01 21:55:00\n",
       "23   1900-01-01 08:15:00\n",
       "24   1900-01-01 17:30:00\n",
       "25   1900-01-01 22:10:00\n",
       "26   1900-01-01 17:55:00\n",
       "27   1900-01-01 20:40:00\n",
       "28   1900-01-01 11:10:00\n",
       "29   1900-01-01 18:10:00\n",
       "30   1900-01-01 19:40:00\n",
       "31   1900-01-01 11:40:00\n",
       "Name: Time_Order_picked, dtype: datetime64[ns]"
      ]
     },
     "execution_count": 71,
     "metadata": {},
     "output_type": "execute_result"
    }
   ],
   "source": [
    "data['Time_Order_picked']"
   ]
  },
  {
   "cell_type": "code",
   "execution_count": 73,
   "id": "afd1cee4-2ba6-4a61-a622-6dd7894d6cb9",
   "metadata": {},
   "outputs": [],
   "source": [
    "# Fill missing Time_Orderd using Time_Order_picked - 10 minutes\n",
    "data['Time_Orderd'] = data.apply(\n",
    "    lambda row: row['Time_Order_picked'] - pd.Timedelta(minutes=10) if pd.isna(row['Time_Orderd']) else row['Time_Orderd'],\n",
    "    axis=1\n",
    ")"
   ]
  },
  {
   "cell_type": "code",
   "execution_count": 75,
   "id": "dc76fef5-39cc-441d-b4b9-0acfbca83402",
   "metadata": {},
   "outputs": [],
   "source": [
    "# Fill missing Time_Order_picked using Time_Orderd + 10 minutes\n",
    "data['Time_Order_picked'] = data.apply(\n",
    "    lambda row: row['Time_Orderd'] + pd.Timedelta(minutes=10) if pd.isna(row['Time_Order_picked']) else row['Time_Order_picked'],\n",
    "    axis=1\n",
    ")"
   ]
  },
  {
   "cell_type": "code",
   "execution_count": 77,
   "id": "cc639afc-2c95-46d4-9184-3bdc90008534",
   "metadata": {},
   "outputs": [
    {
     "name": "stdout",
     "output_type": "stream",
     "text": [
      "          Time_Orderd   Time_Order_picked\n",
      "0 1900-01-01 14:40:00 1900-01-01 14:50:00\n",
      "1 1900-01-01 10:40:00 1900-01-01 10:50:00\n",
      "2 1900-01-01 15:35:00 1900-01-01 15:40:00\n",
      "3 1900-01-01 15:30:00 1900-01-01 15:45:00\n",
      "4 1900-01-01 19:35:00 1900-01-01 19:40:00\n"
     ]
    }
   ],
   "source": [
    "print(data[['Time_Orderd', 'Time_Order_picked']].head())"
   ]
  },
  {
   "cell_type": "code",
   "execution_count": 79,
   "id": "2417bf4f-13b7-4d62-b5d7-27f89ae68d6b",
   "metadata": {},
   "outputs": [
    {
     "data": {
      "text/plain": [
       "0    1900-01-01 14:40:00\n",
       "1    1900-01-01 10:40:00\n",
       "2    1900-01-01 15:35:00\n",
       "3    1900-01-01 15:30:00\n",
       "4    1900-01-01 19:35:00\n",
       "5    1900-01-01 21:25:00\n",
       "6    1900-01-01 22:45:00\n",
       "7    1900-01-01 13:25:00\n",
       "8    1900-01-01 23:25:00\n",
       "9    1900-01-01 18:10:00\n",
       "10   1900-01-01 22:25:00\n",
       "11   1900-01-01 23:30:00\n",
       "12   1900-01-01 17:40:00\n",
       "13   1900-01-01 10:25:00\n",
       "14   1900-01-01 17:15:00\n",
       "15   1900-01-01 21:55:00\n",
       "16   1900-01-01 17:20:00\n",
       "17   1900-01-01 22:50:00\n",
       "18   1900-01-01 23:55:00\n",
       "19   1900-01-01 22:30:00\n",
       "20   1900-01-01 19:45:00\n",
       "21   1900-01-01 20:35:00\n",
       "22   1900-01-01 21:40:00\n",
       "23   1900-01-01 08:10:00\n",
       "24   1900-01-01 17:15:00\n",
       "25   1900-01-01 21:55:00\n",
       "26   1900-01-01 17:45:00\n",
       "27   1900-01-01 20:25:00\n",
       "28   1900-01-01 11:00:00\n",
       "29   1900-01-01 18:00:00\n",
       "30   1900-01-01 19:35:00\n",
       "31   1900-01-01 11:35:00\n",
       "Name: Time_Orderd, dtype: datetime64[ns]"
      ]
     },
     "execution_count": 79,
     "metadata": {},
     "output_type": "execute_result"
    }
   ],
   "source": [
    "data['Time_Orderd']"
   ]
  },
  {
   "cell_type": "code",
   "execution_count": 81,
   "id": "c2a0a9f0-b4f8-49af-854c-9b3b6e1c84b8",
   "metadata": {},
   "outputs": [
    {
     "data": {
      "text/plain": [
       "0    1900-01-01 14:50:00\n",
       "1    1900-01-01 10:50:00\n",
       "2    1900-01-01 15:40:00\n",
       "3    1900-01-01 15:45:00\n",
       "4    1900-01-01 19:40:00\n",
       "5    1900-01-01 21:35:00\n",
       "6    1900-01-01 22:55:00\n",
       "7    1900-01-01 13:40:00\n",
       "8    1900-01-01 23:35:00\n",
       "9    1900-01-01 18:20:00\n",
       "10   1900-01-01 22:35:00\n",
       "11   1900-01-01 23:45:00\n",
       "12   1900-01-01 17:50:00\n",
       "13   1900-01-01 10:40:00\n",
       "14   1900-01-01 17:25:00\n",
       "15   1900-01-01 22:05:00\n",
       "16   1900-01-01 17:35:00\n",
       "17   1900-01-01 23:00:00\n",
       "18   1900-01-02 00:05:00\n",
       "19   1900-01-01 22:35:00\n",
       "20   1900-01-01 19:55:00\n",
       "21   1900-01-01 20:50:00\n",
       "22   1900-01-01 21:55:00\n",
       "23   1900-01-01 08:15:00\n",
       "24   1900-01-01 17:30:00\n",
       "25   1900-01-01 22:10:00\n",
       "26   1900-01-01 17:55:00\n",
       "27   1900-01-01 20:40:00\n",
       "28   1900-01-01 11:10:00\n",
       "29   1900-01-01 18:10:00\n",
       "30   1900-01-01 19:40:00\n",
       "31   1900-01-01 11:40:00\n",
       "Name: Time_Order_picked, dtype: datetime64[ns]"
      ]
     },
     "execution_count": 81,
     "metadata": {},
     "output_type": "execute_result"
    }
   ],
   "source": [
    "data['Time_Order_picked']"
   ]
  },
  {
   "cell_type": "code",
   "execution_count": 83,
   "id": "1fac35ab-96f2-4d3e-b658-7dbdbe8bab9d",
   "metadata": {},
   "outputs": [
    {
     "name": "stdout",
     "output_type": "stream",
     "text": [
      "<class 'pandas.core.frame.DataFrame'>\n",
      "RangeIndex: 32 entries, 0 to 31\n",
      "Data columns (total 16 columns):\n",
      " #   Column                       Non-Null Count  Dtype         \n",
      "---  ------                       --------------  -----         \n",
      " 0   Restaurant_latitude          32 non-null     float64       \n",
      " 1   Restaurant_longitude         32 non-null     float64       \n",
      " 2   Delivery_location_latitude   32 non-null     float64       \n",
      " 3   Delivery_location_longitude  32 non-null     float64       \n",
      " 4   Order_Date                   32 non-null     datetime64[ns]\n",
      " 5   Time_Orderd                  32 non-null     datetime64[ns]\n",
      " 6   Time_Order_picked            32 non-null     datetime64[ns]\n",
      " 7   Weather_conditions           32 non-null     object        \n",
      " 8   Road_traffic_density         32 non-null     object        \n",
      " 9   Vehicle_condition            32 non-null     int64         \n",
      " 10  Type_of_order                32 non-null     object        \n",
      " 11  Type_of_vehicle              32 non-null     object        \n",
      " 12  multiple_deliveries          32 non-null     int64         \n",
      " 13  Festival                     32 non-null     object        \n",
      " 14  City                         31 non-null     object        \n",
      " 15  Time_taken_min               32 non-null     int64         \n",
      "dtypes: datetime64[ns](3), float64(4), int64(3), object(6)\n",
      "memory usage: 4.1+ KB\n"
     ]
    }
   ],
   "source": [
    "data.info()"
   ]
  },
  {
   "cell_type": "markdown",
   "id": "2412529c-9ced-410a-ac4d-379fc44f34f7",
   "metadata": {},
   "source": [
    "4. Converting latitude and longitude"
   ]
  },
  {
   "cell_type": "code",
   "execution_count": 85,
   "id": "f6b36aae-eb9f-4170-8a24-a34c6d123bcb",
   "metadata": {},
   "outputs": [],
   "source": [
    "# Convert latitude and longitude columns to numeric format\n",
    "geo_vars = ['Restaurant_latitude', 'Restaurant_longitude', 'Delivery_location_latitude', 'Delivery_location_longitude']\n",
    "for var in geo_vars:\n",
    "    data[var] = pd.to_numeric(data[var], errors='coerce')  # Convert to numeric, setting invalid values to NaN"
   ]
  },
  {
   "cell_type": "code",
   "execution_count": 90,
   "id": "98ad6a9d-c9bb-4406-a7e0-392a2bd98e1a",
   "metadata": {},
   "outputs": [],
   "source": [
    "# Latitude should be between -90 and 90, Longitude should be between -180 and 180\n",
    "data['Restaurant_latitude'] = data['Restaurant_latitude'].apply(lambda x: np.nan if x < -90 or x > 90 else x)\n",
    "data['Delivery_location_latitude'] = data['Delivery_location_latitude'].apply(lambda x: np.nan if x < -90 or x > 90 else x)\n",
    "data['Restaurant_longitude'] = data['Restaurant_longitude'].apply(lambda x: np.nan if x < -180 or x > 180 else x)\n",
    "data['Delivery_location_longitude'] = data['Delivery_location_longitude'].apply(lambda x: np.nan if x < -180 or x > 180 else x)\n"
   ]
  },
  {
   "cell_type": "code",
   "execution_count": 92,
   "id": "7931408e-3681-4ea5-ad81-5f2cb851a3ca",
   "metadata": {},
   "outputs": [
    {
     "name": "stdout",
     "output_type": "stream",
     "text": [
      "   Restaurant_latitude  Restaurant_longitude  Delivery_location_latitude  \\\n",
      "0            12.949934             77.699386                   13.015377   \n",
      "1            12.949934             77.699386                   12.944179   \n",
      "2            12.949934             77.699386                   13.019096   \n",
      "3            12.949934             77.699386                   13.018453   \n",
      "4            12.949934             77.699386                   13.044179   \n",
      "\n",
      "   Delivery_location_longitude  \n",
      "0                    77.736664  \n",
      "1                    77.625797  \n",
      "2                    77.680625  \n",
      "3                    77.683685  \n",
      "4                    77.725797  \n"
     ]
    }
   ],
   "source": [
    "print(data[geo_vars].head())"
   ]
  },
  {
   "cell_type": "code",
   "execution_count": 94,
   "id": "f64ef95b-d663-41cc-a670-acaf5e05b7ef",
   "metadata": {},
   "outputs": [
    {
     "name": "stdout",
     "output_type": "stream",
     "text": [
      "<class 'pandas.core.frame.DataFrame'>\n",
      "RangeIndex: 32 entries, 0 to 31\n",
      "Data columns (total 16 columns):\n",
      " #   Column                       Non-Null Count  Dtype         \n",
      "---  ------                       --------------  -----         \n",
      " 0   Restaurant_latitude          32 non-null     float64       \n",
      " 1   Restaurant_longitude         32 non-null     float64       \n",
      " 2   Delivery_location_latitude   32 non-null     float64       \n",
      " 3   Delivery_location_longitude  32 non-null     float64       \n",
      " 4   Order_Date                   32 non-null     datetime64[ns]\n",
      " 5   Time_Orderd                  32 non-null     datetime64[ns]\n",
      " 6   Time_Order_picked            32 non-null     datetime64[ns]\n",
      " 7   Weather_conditions           32 non-null     object        \n",
      " 8   Road_traffic_density         32 non-null     object        \n",
      " 9   Vehicle_condition            32 non-null     int64         \n",
      " 10  Type_of_order                32 non-null     object        \n",
      " 11  Type_of_vehicle              32 non-null     object        \n",
      " 12  multiple_deliveries          32 non-null     int64         \n",
      " 13  Festival                     32 non-null     object        \n",
      " 14  City                         31 non-null     object        \n",
      " 15  Time_taken_min               32 non-null     int64         \n",
      "dtypes: datetime64[ns](3), float64(4), int64(3), object(6)\n",
      "memory usage: 4.1+ KB\n"
     ]
    }
   ],
   "source": [
    "data.info()"
   ]
  },
  {
   "cell_type": "markdown",
   "id": "019b5be8-c1d2-45fd-990f-a78c13a4eb61",
   "metadata": {},
   "source": [
    "5. Handling categorical variables"
   ]
  },
  {
   "cell_type": "code",
   "execution_count": 96,
   "id": "747a9b87-c717-4ec9-aa7a-302af553bbb2",
   "metadata": {},
   "outputs": [],
   "source": [
    "# Define categorical columns\n",
    "cat_vars = ['Weather_conditions', 'Road_traffic_density', 'Vehicle_condition', \n",
    "            'Type_of_order', 'Type_of_vehicle', 'City', 'Festival']\n"
   ]
  },
  {
   "cell_type": "code",
   "execution_count": 98,
   "id": "40054c1f-4552-45a5-99c2-05d1403d8ceb",
   "metadata": {},
   "outputs": [],
   "source": [
    "# Convert to categorical and replace missing values\n",
    "for var in cat_vars:\n",
    "    data[var] = data[var].astype('category')  # Convert to categorical type\n",
    "    data[var] = data[var].replace(['', 'NaN', np.nan], np.nan)  # Standardize missing values"
   ]
  },
  {
   "cell_type": "code",
   "execution_count": 100,
   "id": "e3db57dd-726d-4696-ac2c-d2ce97407d67",
   "metadata": {},
   "outputs": [
    {
     "name": "stdout",
     "output_type": "stream",
     "text": [
      "  Weather_conditions Road_traffic_density Vehicle_condition Type_of_order  \\\n",
      "0                Fog                 High                 0        Drinks   \n",
      "1                Fog                  Low                 0          Meal   \n",
      "2              Sunny               Medium                 2         Snack   \n",
      "3             Stormy               Medium                 0         Snack   \n",
      "4             Cloudy                  Jam                 0          Meal   \n",
      "\n",
      "    Type_of_vehicle           City Festival  \n",
      "0        motorcycle  Metropolitian       No  \n",
      "1        motorcycle  Metropolitian       No  \n",
      "2  electric_scooter          Urban       No  \n",
      "3        motorcycle  Metropolitian       No  \n",
      "4        motorcycle          Urban       No  \n"
     ]
    }
   ],
   "source": [
    "print(data[cat_vars].head())"
   ]
  },
  {
   "cell_type": "code",
   "execution_count": 102,
   "id": "615cd579-5312-4070-acd9-1f2bcc9ac6b2",
   "metadata": {},
   "outputs": [
    {
     "name": "stdout",
     "output_type": "stream",
     "text": [
      "<class 'pandas.core.frame.DataFrame'>\n",
      "RangeIndex: 32 entries, 0 to 31\n",
      "Data columns (total 16 columns):\n",
      " #   Column                       Non-Null Count  Dtype         \n",
      "---  ------                       --------------  -----         \n",
      " 0   Restaurant_latitude          32 non-null     float64       \n",
      " 1   Restaurant_longitude         32 non-null     float64       \n",
      " 2   Delivery_location_latitude   32 non-null     float64       \n",
      " 3   Delivery_location_longitude  32 non-null     float64       \n",
      " 4   Order_Date                   32 non-null     datetime64[ns]\n",
      " 5   Time_Orderd                  32 non-null     datetime64[ns]\n",
      " 6   Time_Order_picked            32 non-null     datetime64[ns]\n",
      " 7   Weather_conditions           32 non-null     category      \n",
      " 8   Road_traffic_density         32 non-null     category      \n",
      " 9   Vehicle_condition            32 non-null     category      \n",
      " 10  Type_of_order                32 non-null     category      \n",
      " 11  Type_of_vehicle              32 non-null     category      \n",
      " 12  multiple_deliveries          32 non-null     int64         \n",
      " 13  Festival                     32 non-null     category      \n",
      " 14  City                         31 non-null     category      \n",
      " 15  Time_taken_min               32 non-null     int64         \n",
      "dtypes: category(7), datetime64[ns](3), float64(4), int64(2)\n",
      "memory usage: 3.7 KB\n"
     ]
    }
   ],
   "source": [
    "data.info()"
   ]
  },
  {
   "cell_type": "markdown",
   "id": "1ee17421-7ecc-48f2-90b4-d50ff89ece2a",
   "metadata": {},
   "source": [
    "6. Handling Numeric columns"
   ]
  },
  {
   "cell_type": "code",
   "execution_count": 104,
   "id": "30d3599e-7aea-4919-8f94-85694ee44692",
   "metadata": {},
   "outputs": [],
   "source": [
    "# Convert columns to numeric type\n",
    "numeric_cols = ['multiple_deliveries', 'Time_taken_min']\n",
    "for col in numeric_cols:\n",
    "    data[col] = pd.to_numeric(data[col], errors='coerce')  # Convert to numeric, handling errors\n",
    "    data[col] = data[col].apply(lambda x: np.nan if x < 0 else x)  # Replace negative values with NaN\n"
   ]
  },
  {
   "cell_type": "code",
   "execution_count": 106,
   "id": "b18f585d-e4d1-4a76-811a-c91c7dee2cb9",
   "metadata": {},
   "outputs": [
    {
     "name": "stdout",
     "output_type": "stream",
     "text": [
      "   multiple_deliveries  Time_taken_min\n",
      "0                    0              21\n",
      "1                    0              27\n",
      "2                    1              15\n",
      "3                    1              16\n",
      "4                    3              48\n"
     ]
    }
   ],
   "source": [
    "print(data[numeric_cols].head())"
   ]
  },
  {
   "cell_type": "code",
   "execution_count": 108,
   "id": "5467e0bf-720d-4bf5-acd7-eaab1ea851c3",
   "metadata": {},
   "outputs": [
    {
     "name": "stdout",
     "output_type": "stream",
     "text": [
      "<class 'pandas.core.frame.DataFrame'>\n",
      "RangeIndex: 32 entries, 0 to 31\n",
      "Data columns (total 16 columns):\n",
      " #   Column                       Non-Null Count  Dtype         \n",
      "---  ------                       --------------  -----         \n",
      " 0   Restaurant_latitude          32 non-null     float64       \n",
      " 1   Restaurant_longitude         32 non-null     float64       \n",
      " 2   Delivery_location_latitude   32 non-null     float64       \n",
      " 3   Delivery_location_longitude  32 non-null     float64       \n",
      " 4   Order_Date                   32 non-null     datetime64[ns]\n",
      " 5   Time_Orderd                  32 non-null     datetime64[ns]\n",
      " 6   Time_Order_picked            32 non-null     datetime64[ns]\n",
      " 7   Weather_conditions           32 non-null     category      \n",
      " 8   Road_traffic_density         32 non-null     category      \n",
      " 9   Vehicle_condition            32 non-null     category      \n",
      " 10  Type_of_order                32 non-null     category      \n",
      " 11  Type_of_vehicle              32 non-null     category      \n",
      " 12  multiple_deliveries          32 non-null     int64         \n",
      " 13  Festival                     32 non-null     category      \n",
      " 14  City                         31 non-null     category      \n",
      " 15  Time_taken_min               32 non-null     int64         \n",
      "dtypes: category(7), datetime64[ns](3), float64(4), int64(2)\n",
      "memory usage: 3.7 KB\n"
     ]
    }
   ],
   "source": [
    "data.info()"
   ]
  },
  {
   "cell_type": "code",
   "execution_count": 115,
   "id": "11320f3f-962c-4380-8a23-d9bf7d0c6959",
   "metadata": {},
   "outputs": [
    {
     "data": {
      "text/plain": [
       "0     Metropolitian\n",
       "1     Metropolitian\n",
       "2             Urban\n",
       "3     Metropolitian\n",
       "4             Urban\n",
       "5     Metropolitian\n",
       "6     Metropolitian\n",
       "7     Metropolitian\n",
       "8     Metropolitian\n",
       "9     Metropolitian\n",
       "10            Urban\n",
       "11    Metropolitian\n",
       "12    Metropolitian\n",
       "13    Metropolitian\n",
       "14    Metropolitian\n",
       "15    Metropolitian\n",
       "16    Metropolitian\n",
       "17            Urban\n",
       "18    Metropolitian\n",
       "19              NaN\n",
       "20    Metropolitian\n",
       "21            Urban\n",
       "22    Metropolitian\n",
       "23            Urban\n",
       "24    Metropolitian\n",
       "25    Metropolitian\n",
       "26    Metropolitian\n",
       "27            Urban\n",
       "28    Metropolitian\n",
       "29    Metropolitian\n",
       "30    Metropolitian\n",
       "31    Metropolitian\n",
       "Name: City, dtype: category\n",
       "Categories (2, object): ['Metropolitian', 'Urban']"
      ]
     },
     "execution_count": 115,
     "metadata": {},
     "output_type": "execute_result"
    }
   ],
   "source": [
    "data['City']"
   ]
  },
  {
   "cell_type": "code",
   "execution_count": 117,
   "id": "92c4dc63-2aa1-42d7-99c9-cec2dbdea9bf",
   "metadata": {},
   "outputs": [
    {
     "name": "stderr",
     "output_type": "stream",
     "text": [
      "C:\\Users\\jsuri\\AppData\\Local\\Temp\\ipykernel_22180\\4288509837.py:1: FutureWarning: Series.fillna with 'method' is deprecated and will raise in a future version. Use obj.ffill() or obj.bfill() instead.\n",
      "  data['City'] = data['City'].fillna(method='ffill')\n"
     ]
    }
   ],
   "source": [
    "\n",
    "data['City'] = data['City'].fillna(method='ffill') "
   ]
  },
  {
   "cell_type": "code",
   "execution_count": 119,
   "id": "0394aeed-7934-4618-aa08-11964c9f337f",
   "metadata": {},
   "outputs": [
    {
     "data": {
      "text/plain": [
       "City\n",
       "Metropolitian    25\n",
       "Urban             7\n",
       "Name: count, dtype: int64"
      ]
     },
     "execution_count": 119,
     "metadata": {},
     "output_type": "execute_result"
    }
   ],
   "source": [
    "data['City'].value_counts()"
   ]
  },
  {
   "cell_type": "markdown",
   "id": "6bc76f1d-6119-425c-ab06-afda498cd1eb",
   "metadata": {},
   "source": [
    "7. Calculating time difference"
   ]
  },
  {
   "cell_type": "code",
   "execution_count": 121,
   "id": "ce55ce57-815b-4867-a92b-15821a4dfdea",
   "metadata": {},
   "outputs": [],
   "source": [
    "# Calculate Time_Difference in minutes\n",
    "data['Time_Difference'] = (data['Time_Order_picked'] - data['Time_Orderd']).dt.total_seconds() / 60"
   ]
  },
  {
   "cell_type": "code",
   "execution_count": 123,
   "id": "d411a978-fdd5-4b58-bf2c-922c89dd9387",
   "metadata": {},
   "outputs": [],
   "source": [
    "# Adjust negative time differences (Assumption: Orders crossing midnight)\n",
    "data.loc[data['Time_Difference'] < 0, 'Time_Difference'] += 1440  # 1440 minutes = 24 hours"
   ]
  },
  {
   "cell_type": "code",
   "execution_count": 125,
   "id": "e5914b78-19b9-46fc-8910-b75c7b893d57",
   "metadata": {},
   "outputs": [],
   "source": [
    "# Impute missing values in Time_Difference with 0 (assuming 0 minutes if missing)\n",
    "data['Time_Difference'] = data['Time_Difference'].fillna(0)"
   ]
  },
  {
   "cell_type": "code",
   "execution_count": 127,
   "id": "cd1349a4-764f-4153-8410-53798d74cd72",
   "metadata": {},
   "outputs": [
    {
     "name": "stdout",
     "output_type": "stream",
     "text": [
      "0\n"
     ]
    }
   ],
   "source": [
    "# Check for missing values after imputation\n",
    "print(data['Time_Difference'].isnull().sum())"
   ]
  },
  {
   "cell_type": "code",
   "execution_count": 131,
   "id": "5f2da89b-b105-4b87-b5f5-87d89e0335f0",
   "metadata": {},
   "outputs": [
    {
     "data": {
      "text/plain": [
       "Time_Difference\n",
       "10.0    16\n",
       "15.0    10\n",
       "5.0      6\n",
       "Name: count, dtype: int64"
      ]
     },
     "execution_count": 131,
     "metadata": {},
     "output_type": "execute_result"
    }
   ],
   "source": [
    "data['Time_Difference'].value_counts()"
   ]
  },
  {
   "cell_type": "code",
   "execution_count": 133,
   "id": "c0666500-d0f6-4e25-8fdc-06832b124789",
   "metadata": {},
   "outputs": [
    {
     "name": "stdout",
     "output_type": "stream",
     "text": [
      "<class 'pandas.core.frame.DataFrame'>\n",
      "RangeIndex: 32 entries, 0 to 31\n",
      "Data columns (total 17 columns):\n",
      " #   Column                       Non-Null Count  Dtype         \n",
      "---  ------                       --------------  -----         \n",
      " 0   Restaurant_latitude          32 non-null     float64       \n",
      " 1   Restaurant_longitude         32 non-null     float64       \n",
      " 2   Delivery_location_latitude   32 non-null     float64       \n",
      " 3   Delivery_location_longitude  32 non-null     float64       \n",
      " 4   Order_Date                   32 non-null     datetime64[ns]\n",
      " 5   Time_Orderd                  32 non-null     datetime64[ns]\n",
      " 6   Time_Order_picked            32 non-null     datetime64[ns]\n",
      " 7   Weather_conditions           32 non-null     category      \n",
      " 8   Road_traffic_density         32 non-null     category      \n",
      " 9   Vehicle_condition            32 non-null     category      \n",
      " 10  Type_of_order                32 non-null     category      \n",
      " 11  Type_of_vehicle              32 non-null     category      \n",
      " 12  multiple_deliveries          32 non-null     int64         \n",
      " 13  Festival                     32 non-null     category      \n",
      " 14  City                         32 non-null     category      \n",
      " 15  Time_taken_min               32 non-null     int64         \n",
      " 16  Time_Difference              32 non-null     float64       \n",
      "dtypes: category(7), datetime64[ns](3), float64(5), int64(2)\n",
      "memory usage: 4.0 KB\n"
     ]
    }
   ],
   "source": [
    "data.info()"
   ]
  },
  {
   "cell_type": "markdown",
   "id": "29a14ac0-5314-4530-80b2-25ee211ec8a1",
   "metadata": {},
   "source": [
    "8. Extracting order hour"
   ]
  },
  {
   "cell_type": "code",
   "execution_count": 135,
   "id": "1e63b83a-ae05-401c-a478-b9b6b483dc40",
   "metadata": {},
   "outputs": [],
   "source": [
    "# Extract the hour from 'Time_Orderd'\n",
    "data['Order_Hour'] = data['Time_Orderd'].dt.hour  "
   ]
  },
  {
   "cell_type": "code",
   "execution_count": 137,
   "id": "e3e4f85a-a97a-4312-b4e4-34180ce512cf",
   "metadata": {},
   "outputs": [
    {
     "name": "stderr",
     "output_type": "stream",
     "text": [
      "C:\\Users\\jsuri\\AppData\\Local\\Temp\\ipykernel_22180\\1546034075.py:2: FutureWarning: A value is trying to be set on a copy of a DataFrame or Series through chained assignment using an inplace method.\n",
      "The behavior will change in pandas 3.0. This inplace method will never work because the intermediate object on which we are setting values always behaves as a copy.\n",
      "\n",
      "For example, when doing 'df[col].method(value, inplace=True)', try using 'df.method({col: value}, inplace=True)' or df[col] = df[col].method(value) instead, to perform the operation inplace on the original object.\n",
      "\n",
      "\n",
      "  data['Order_Hour'].fillna(0, inplace=True)  # Assuming missing values should be replaced with 0\n"
     ]
    }
   ],
   "source": [
    "# Impute missing values with 0\n",
    "data['Order_Hour'].fillna(0, inplace=True)  # Assuming missing values should be replaced with 0"
   ]
  },
  {
   "cell_type": "code",
   "execution_count": 143,
   "id": "d332581d-341c-48c2-9fe2-86f065201e63",
   "metadata": {},
   "outputs": [
    {
     "data": {
      "text/plain": [
       "32"
      ]
     },
     "execution_count": 143,
     "metadata": {},
     "output_type": "execute_result"
    }
   ],
   "source": [
    "data['Order_Hour'].value_counts().sum()"
   ]
  },
  {
   "cell_type": "code",
   "execution_count": 145,
   "id": "c452ad3e-9766-40c6-92e6-7a5ef8311e43",
   "metadata": {},
   "outputs": [
    {
     "name": "stdout",
     "output_type": "stream",
     "text": [
      "<class 'pandas.core.frame.DataFrame'>\n",
      "RangeIndex: 32 entries, 0 to 31\n",
      "Data columns (total 18 columns):\n",
      " #   Column                       Non-Null Count  Dtype         \n",
      "---  ------                       --------------  -----         \n",
      " 0   Restaurant_latitude          32 non-null     float64       \n",
      " 1   Restaurant_longitude         32 non-null     float64       \n",
      " 2   Delivery_location_latitude   32 non-null     float64       \n",
      " 3   Delivery_location_longitude  32 non-null     float64       \n",
      " 4   Order_Date                   32 non-null     datetime64[ns]\n",
      " 5   Time_Orderd                  32 non-null     datetime64[ns]\n",
      " 6   Time_Order_picked            32 non-null     datetime64[ns]\n",
      " 7   Weather_conditions           32 non-null     category      \n",
      " 8   Road_traffic_density         32 non-null     category      \n",
      " 9   Vehicle_condition            32 non-null     category      \n",
      " 10  Type_of_order                32 non-null     category      \n",
      " 11  Type_of_vehicle              32 non-null     category      \n",
      " 12  multiple_deliveries          32 non-null     int64         \n",
      " 13  Festival                     32 non-null     category      \n",
      " 14  City                         32 non-null     category      \n",
      " 15  Time_taken_min               32 non-null     int64         \n",
      " 16  Time_Difference              32 non-null     float64       \n",
      " 17  Order_Hour                   32 non-null     int32         \n",
      "dtypes: category(7), datetime64[ns](3), float64(5), int32(1), int64(2)\n",
      "memory usage: 4.1 KB\n"
     ]
    }
   ],
   "source": [
    "data.info()"
   ]
  },
  {
   "cell_type": "markdown",
   "id": "fbf2f2c7-1ac4-4754-87c1-fd39ceb3e3ec",
   "metadata": {},
   "source": [
    "9.Calculating Distance Using Haversine Formula"
   ]
  },
  {
   "cell_type": "code",
   "execution_count": 147,
   "id": "4099a7e5-4ddf-43d5-aede-d33525d80722",
   "metadata": {},
   "outputs": [],
   "source": [
    "import numpy as np\n",
    "\n",
    "# Radius of the Earth in kilometers\n",
    "R = 6371  \n",
    "\n",
    "# Convert degrees to radians\n",
    "lat1 = np.radians(data[\"Restaurant_latitude\"])\n",
    "lon1 = np.radians(data[\"Restaurant_longitude\"])\n",
    "lat2 = np.radians(data[\"Delivery_location_latitude\"])\n",
    "lon2 = np.radians(data[\"Delivery_location_longitude\"])\n",
    "\n",
    "# Compute differences\n",
    "dlat = lat2 - lat1\n",
    "dlon = lon2 - lon1\n",
    "\n",
    "# Haversine formula\n",
    "a = np.sin(dlat / 2) ** 2 + np.cos(lat1) * np.cos(lat2) * np.sin(dlon / 2) ** 2\n",
    "c = 2 * np.arctan2(np.sqrt(a), np.sqrt(1 - a))\n",
    "\n",
    "# Compute distance\n",
    "data[\"Distance\"] = R * c  # Distance in kilometers\n"
   ]
  },
  {
   "cell_type": "markdown",
   "id": "87c674b7-0cae-4201-97da-17a8f1f6266a",
   "metadata": {},
   "source": [
    "10.Sample for testing the haversine formula "
   ]
  },
  {
   "cell_type": "code",
   "execution_count": 149,
   "id": "319012e6-c380-47de-8b30-7365f74cbdeb",
   "metadata": {},
   "outputs": [
    {
     "name": "stdout",
     "output_type": "stream",
     "text": [
      "Calculated Distance: 7.14 km\n"
     ]
    }
   ],
   "source": [
    "import numpy as np\n",
    "\n",
    "def haversine(lat1, lon1, lat2, lon2):\n",
    "    R = 6371  # Radius of the Earth in kilometers\n",
    "\n",
    "    # Convert degrees to radians\n",
    "    lat1, lon1, lat2, lon2 = map(np.radians, [lat1, lon1, lat2, lon2])\n",
    "\n",
    "    # Compute differences\n",
    "    dlat = lat2 - lat1\n",
    "    dlon = lon2 - lon1\n",
    "\n",
    "    # Haversine formula\n",
    "    a = np.sin(dlat / 2) ** 2 + np.cos(lat1) * np.cos(lat2) * np.sin(dlon / 2) ** 2\n",
    "    c = 2 * np.arctan2(np.sqrt(a), np.sqrt(1 - a))\n",
    "\n",
    "    return R * c  # Distance in kilometers\n",
    "\n",
    "# Test with sample values\n",
    "lat1, lon1 = 12.9716, 77.5946  # Bangalore\n",
    "lat2, lon2 = 13.0358, 77.5970  # Another location in Bangalore\n",
    "\n",
    "distance = haversine(lat1, lon1, lat2, lon2)\n",
    "print(f\"Calculated Distance: {distance:.2f} km\")\n"
   ]
  },
  {
   "cell_type": "markdown",
   "id": "1553ff62-ae5b-469b-9a08-6e8aff6893a4",
   "metadata": {},
   "source": [
    "11.One-Hot Encoding Categorical Variables"
   ]
  },
  {
   "cell_type": "code",
   "execution_count": 155,
   "id": "fd2b902d-b08a-42fd-a999-401bb0c1294b",
   "metadata": {},
   "outputs": [],
   "source": [
    "# List of categorical variables to one-hot encode\n",
    "categorical_vars = ['Weather_conditions', 'Road_traffic_density', 'Vehicle_condition', \n",
    "                    'Type_of_order', 'Type_of_vehicle']"
   ]
  },
  {
   "cell_type": "code",
   "execution_count": 157,
   "id": "c1eaee8d-ae77-42d4-81ff-75336dccd1df",
   "metadata": {},
   "outputs": [],
   "source": [
    "# Perform one-hot encoding\n",
    "data = pd.get_dummies(data, columns=categorical_vars, prefix=categorical_vars)"
   ]
  },
  {
   "cell_type": "code",
   "execution_count": 162,
   "id": "780a7318-1274-4e85-8a47-b10904a71322",
   "metadata": {},
   "outputs": [
    {
     "name": "stdout",
     "output_type": "stream",
     "text": [
      "<class 'pandas.core.frame.DataFrame'>\n",
      "RangeIndex: 32 entries, 0 to 31\n",
      "Data columns (total 34 columns):\n",
      " #   Column                            Non-Null Count  Dtype         \n",
      "---  ------                            --------------  -----         \n",
      " 0   Restaurant_latitude               32 non-null     float64       \n",
      " 1   Restaurant_longitude              32 non-null     float64       \n",
      " 2   Delivery_location_latitude        32 non-null     float64       \n",
      " 3   Delivery_location_longitude       32 non-null     float64       \n",
      " 4   Order_Date                        32 non-null     datetime64[ns]\n",
      " 5   Time_Orderd                       32 non-null     datetime64[ns]\n",
      " 6   Time_Order_picked                 32 non-null     datetime64[ns]\n",
      " 7   multiple_deliveries               32 non-null     int64         \n",
      " 8   Festival                          32 non-null     category      \n",
      " 9   City                              32 non-null     category      \n",
      " 10  Time_taken_min                    32 non-null     int64         \n",
      " 11  Time_Difference                   32 non-null     float64       \n",
      " 12  Order_Hour                        32 non-null     int32         \n",
      " 13  Distance                          32 non-null     float64       \n",
      " 14  Weather_conditions_Cloudy         32 non-null     bool          \n",
      " 15  Weather_conditions_Fog            32 non-null     bool          \n",
      " 16  Weather_conditions_Sandstorms     32 non-null     bool          \n",
      " 17  Weather_conditions_Stormy         32 non-null     bool          \n",
      " 18  Weather_conditions_Sunny          32 non-null     bool          \n",
      " 19  Weather_conditions_Windy          32 non-null     bool          \n",
      " 20  Road_traffic_density_High         32 non-null     bool          \n",
      " 21  Road_traffic_density_Jam          32 non-null     bool          \n",
      " 22  Road_traffic_density_Low          32 non-null     bool          \n",
      " 23  Road_traffic_density_Medium       32 non-null     bool          \n",
      " 24  Vehicle_condition_0               32 non-null     bool          \n",
      " 25  Vehicle_condition_1               32 non-null     bool          \n",
      " 26  Vehicle_condition_2               32 non-null     bool          \n",
      " 27  Type_of_order_Buffet              32 non-null     bool          \n",
      " 28  Type_of_order_Drinks              32 non-null     bool          \n",
      " 29  Type_of_order_Meal                32 non-null     bool          \n",
      " 30  Type_of_order_Snack               32 non-null     bool          \n",
      " 31  Type_of_vehicle_electric_scooter  32 non-null     bool          \n",
      " 32  Type_of_vehicle_motorcycle        32 non-null     bool          \n",
      " 33  Type_of_vehicle_scooter           32 non-null     bool          \n",
      "dtypes: bool(20), category(2), datetime64[ns](3), float64(6), int32(1), int64(2)\n",
      "memory usage: 3.9 KB\n"
     ]
    }
   ],
   "source": [
    "data.info()"
   ]
  },
  {
   "cell_type": "markdown",
   "id": "d8826cb6-e425-40e8-ad43-e3f06dcac497",
   "metadata": {},
   "source": [
    "12. Final cleaning and Exporting dataset"
   ]
  },
  {
   "cell_type": "code",
   "execution_count": 164,
   "id": "bae693f3-f563-41d1-85ad-285493f2a3b5",
   "metadata": {},
   "outputs": [],
   "source": [
    "# Drop unnecessary columns\n",
    "data = data.drop(columns=['Festival', 'City', 'Order_Date', 'Time_Orderd', 'Time_Order_picked'])"
   ]
  },
  {
   "cell_type": "code",
   "execution_count": 166,
   "id": "e188a4a6-82fc-4fa0-a46c-8dad179dbe6a",
   "metadata": {},
   "outputs": [],
   "source": [
    "# Export cleaned data to a CSV file\n",
    "data.to_csv('cleaned_bangalore_zomato_data.csv', index=False)"
   ]
  },
  {
   "cell_type": "code",
   "execution_count": null,
   "id": "2396557f-fc35-456f-a4d3-6efc5fd8c118",
   "metadata": {},
   "outputs": [],
   "source": []
  },
  {
   "cell_type": "markdown",
   "id": "32b7056d-f0cd-4420-8cfd-dd4cdc607453",
   "metadata": {},
   "source": [
    "load the cleaned bangalore zomato dataset"
   ]
  },
  {
   "cell_type": "code",
   "execution_count": 176,
   "id": "0401c6a7-c066-47d7-97b6-fd7f9cab404c",
   "metadata": {},
   "outputs": [],
   "source": [
    "df = pd.read_csv(\"C:/Users/jsuri/Downloads/D/food/cleaned_bangalore_zomato_data.csv\")"
   ]
  },
  {
   "cell_type": "code",
   "execution_count": 178,
   "id": "c16ff9d6-3ce2-4fbb-871c-eb4fd7e9b8b7",
   "metadata": {},
   "outputs": [
    {
     "data": {
      "text/html": [
       "<div>\n",
       "<style scoped>\n",
       "    .dataframe tbody tr th:only-of-type {\n",
       "        vertical-align: middle;\n",
       "    }\n",
       "\n",
       "    .dataframe tbody tr th {\n",
       "        vertical-align: top;\n",
       "    }\n",
       "\n",
       "    .dataframe thead th {\n",
       "        text-align: right;\n",
       "    }\n",
       "</style>\n",
       "<table border=\"1\" class=\"dataframe\">\n",
       "  <thead>\n",
       "    <tr style=\"text-align: right;\">\n",
       "      <th></th>\n",
       "      <th>Restaurant_latitude</th>\n",
       "      <th>Restaurant_longitude</th>\n",
       "      <th>Delivery_location_latitude</th>\n",
       "      <th>Delivery_location_longitude</th>\n",
       "      <th>multiple_deliveries</th>\n",
       "      <th>Time_taken_min</th>\n",
       "      <th>Time_Difference</th>\n",
       "      <th>Order_Hour</th>\n",
       "      <th>Distance</th>\n",
       "      <th>Weather_conditions_Cloudy</th>\n",
       "      <th>...</th>\n",
       "      <th>Vehicle_condition_0</th>\n",
       "      <th>Vehicle_condition_1</th>\n",
       "      <th>Vehicle_condition_2</th>\n",
       "      <th>Type_of_order_Buffet</th>\n",
       "      <th>Type_of_order_Drinks</th>\n",
       "      <th>Type_of_order_Meal</th>\n",
       "      <th>Type_of_order_Snack</th>\n",
       "      <th>Type_of_vehicle_electric_scooter</th>\n",
       "      <th>Type_of_vehicle_motorcycle</th>\n",
       "      <th>Type_of_vehicle_scooter</th>\n",
       "    </tr>\n",
       "  </thead>\n",
       "  <tbody>\n",
       "    <tr>\n",
       "      <th>0</th>\n",
       "      <td>12.949934</td>\n",
       "      <td>77.699386</td>\n",
       "      <td>13.015377</td>\n",
       "      <td>77.736664</td>\n",
       "      <td>0</td>\n",
       "      <td>21</td>\n",
       "      <td>10.0</td>\n",
       "      <td>14</td>\n",
       "      <td>8.322774</td>\n",
       "      <td>False</td>\n",
       "      <td>...</td>\n",
       "      <td>True</td>\n",
       "      <td>False</td>\n",
       "      <td>False</td>\n",
       "      <td>False</td>\n",
       "      <td>True</td>\n",
       "      <td>False</td>\n",
       "      <td>False</td>\n",
       "      <td>False</td>\n",
       "      <td>True</td>\n",
       "      <td>False</td>\n",
       "    </tr>\n",
       "    <tr>\n",
       "      <th>1</th>\n",
       "      <td>12.949934</td>\n",
       "      <td>77.699386</td>\n",
       "      <td>12.944179</td>\n",
       "      <td>77.625797</td>\n",
       "      <td>0</td>\n",
       "      <td>27</td>\n",
       "      <td>10.0</td>\n",
       "      <td>10</td>\n",
       "      <td>8.000332</td>\n",
       "      <td>False</td>\n",
       "      <td>...</td>\n",
       "      <td>True</td>\n",
       "      <td>False</td>\n",
       "      <td>False</td>\n",
       "      <td>False</td>\n",
       "      <td>False</td>\n",
       "      <td>True</td>\n",
       "      <td>False</td>\n",
       "      <td>False</td>\n",
       "      <td>True</td>\n",
       "      <td>False</td>\n",
       "    </tr>\n",
       "    <tr>\n",
       "      <th>2</th>\n",
       "      <td>12.949934</td>\n",
       "      <td>77.699386</td>\n",
       "      <td>13.019096</td>\n",
       "      <td>77.680625</td>\n",
       "      <td>1</td>\n",
       "      <td>15</td>\n",
       "      <td>5.0</td>\n",
       "      <td>15</td>\n",
       "      <td>7.954587</td>\n",
       "      <td>False</td>\n",
       "      <td>...</td>\n",
       "      <td>False</td>\n",
       "      <td>False</td>\n",
       "      <td>True</td>\n",
       "      <td>False</td>\n",
       "      <td>False</td>\n",
       "      <td>False</td>\n",
       "      <td>True</td>\n",
       "      <td>True</td>\n",
       "      <td>False</td>\n",
       "      <td>False</td>\n",
       "    </tr>\n",
       "    <tr>\n",
       "      <th>3</th>\n",
       "      <td>12.949934</td>\n",
       "      <td>77.699386</td>\n",
       "      <td>13.018453</td>\n",
       "      <td>77.683685</td>\n",
       "      <td>1</td>\n",
       "      <td>16</td>\n",
       "      <td>15.0</td>\n",
       "      <td>15</td>\n",
       "      <td>7.806589</td>\n",
       "      <td>False</td>\n",
       "      <td>...</td>\n",
       "      <td>True</td>\n",
       "      <td>False</td>\n",
       "      <td>False</td>\n",
       "      <td>False</td>\n",
       "      <td>False</td>\n",
       "      <td>False</td>\n",
       "      <td>True</td>\n",
       "      <td>False</td>\n",
       "      <td>True</td>\n",
       "      <td>False</td>\n",
       "    </tr>\n",
       "    <tr>\n",
       "      <th>4</th>\n",
       "      <td>12.949934</td>\n",
       "      <td>77.699386</td>\n",
       "      <td>13.044179</td>\n",
       "      <td>77.725797</td>\n",
       "      <td>3</td>\n",
       "      <td>48</td>\n",
       "      <td>5.0</td>\n",
       "      <td>19</td>\n",
       "      <td>10.863226</td>\n",
       "      <td>True</td>\n",
       "      <td>...</td>\n",
       "      <td>True</td>\n",
       "      <td>False</td>\n",
       "      <td>False</td>\n",
       "      <td>False</td>\n",
       "      <td>False</td>\n",
       "      <td>True</td>\n",
       "      <td>False</td>\n",
       "      <td>False</td>\n",
       "      <td>True</td>\n",
       "      <td>False</td>\n",
       "    </tr>\n",
       "    <tr>\n",
       "      <th>5</th>\n",
       "      <td>12.949934</td>\n",
       "      <td>77.699386</td>\n",
       "      <td>12.984179</td>\n",
       "      <td>77.665797</td>\n",
       "      <td>1</td>\n",
       "      <td>29</td>\n",
       "      <td>10.0</td>\n",
       "      <td>21</td>\n",
       "      <td>5.267558</td>\n",
       "      <td>False</td>\n",
       "      <td>...</td>\n",
       "      <td>True</td>\n",
       "      <td>False</td>\n",
       "      <td>False</td>\n",
       "      <td>False</td>\n",
       "      <td>True</td>\n",
       "      <td>False</td>\n",
       "      <td>False</td>\n",
       "      <td>False</td>\n",
       "      <td>True</td>\n",
       "      <td>False</td>\n",
       "    </tr>\n",
       "    <tr>\n",
       "      <th>6</th>\n",
       "      <td>12.949934</td>\n",
       "      <td>77.699386</td>\n",
       "      <td>12.994365</td>\n",
       "      <td>77.676155</td>\n",
       "      <td>1</td>\n",
       "      <td>12</td>\n",
       "      <td>10.0</td>\n",
       "      <td>22</td>\n",
       "      <td>5.544825</td>\n",
       "      <td>False</td>\n",
       "      <td>...</td>\n",
       "      <td>False</td>\n",
       "      <td>True</td>\n",
       "      <td>False</td>\n",
       "      <td>True</td>\n",
       "      <td>False</td>\n",
       "      <td>False</td>\n",
       "      <td>False</td>\n",
       "      <td>False</td>\n",
       "      <td>False</td>\n",
       "      <td>True</td>\n",
       "    </tr>\n",
       "    <tr>\n",
       "      <th>7</th>\n",
       "      <td>12.949934</td>\n",
       "      <td>77.699386</td>\n",
       "      <td>12.989934</td>\n",
       "      <td>77.739386</td>\n",
       "      <td>1</td>\n",
       "      <td>36</td>\n",
       "      <td>15.0</td>\n",
       "      <td>13</td>\n",
       "      <td>6.210416</td>\n",
       "      <td>False</td>\n",
       "      <td>...</td>\n",
       "      <td>False</td>\n",
       "      <td>False</td>\n",
       "      <td>True</td>\n",
       "      <td>False</td>\n",
       "      <td>False</td>\n",
       "      <td>False</td>\n",
       "      <td>True</td>\n",
       "      <td>False</td>\n",
       "      <td>False</td>\n",
       "      <td>True</td>\n",
       "    </tr>\n",
       "    <tr>\n",
       "      <th>8</th>\n",
       "      <td>12.949934</td>\n",
       "      <td>77.699386</td>\n",
       "      <td>13.005662</td>\n",
       "      <td>77.684130</td>\n",
       "      <td>1</td>\n",
       "      <td>40</td>\n",
       "      <td>10.0</td>\n",
       "      <td>23</td>\n",
       "      <td>6.413372</td>\n",
       "      <td>False</td>\n",
       "      <td>...</td>\n",
       "      <td>False</td>\n",
       "      <td>True</td>\n",
       "      <td>False</td>\n",
       "      <td>False</td>\n",
       "      <td>False</td>\n",
       "      <td>True</td>\n",
       "      <td>False</td>\n",
       "      <td>False</td>\n",
       "      <td>True</td>\n",
       "      <td>False</td>\n",
       "    </tr>\n",
       "    <tr>\n",
       "      <th>9</th>\n",
       "      <td>12.949934</td>\n",
       "      <td>77.699386</td>\n",
       "      <td>13.063298</td>\n",
       "      <td>77.744293</td>\n",
       "      <td>0</td>\n",
       "      <td>30</td>\n",
       "      <td>10.0</td>\n",
       "      <td>18</td>\n",
       "      <td>13.511847</td>\n",
       "      <td>False</td>\n",
       "      <td>...</td>\n",
       "      <td>False</td>\n",
       "      <td>False</td>\n",
       "      <td>True</td>\n",
       "      <td>False</td>\n",
       "      <td>True</td>\n",
       "      <td>False</td>\n",
       "      <td>False</td>\n",
       "      <td>False</td>\n",
       "      <td>False</td>\n",
       "      <td>True</td>\n",
       "    </tr>\n",
       "    <tr>\n",
       "      <th>10</th>\n",
       "      <td>12.949934</td>\n",
       "      <td>77.699386</td>\n",
       "      <td>13.069496</td>\n",
       "      <td>77.755999</td>\n",
       "      <td>0</td>\n",
       "      <td>15</td>\n",
       "      <td>10.0</td>\n",
       "      <td>22</td>\n",
       "      <td>14.641328</td>\n",
       "      <td>False</td>\n",
       "      <td>...</td>\n",
       "      <td>True</td>\n",
       "      <td>False</td>\n",
       "      <td>False</td>\n",
       "      <td>False</td>\n",
       "      <td>True</td>\n",
       "      <td>False</td>\n",
       "      <td>False</td>\n",
       "      <td>False</td>\n",
       "      <td>True</td>\n",
       "      <td>False</td>\n",
       "    </tr>\n",
       "    <tr>\n",
       "      <th>11</th>\n",
       "      <td>12.949934</td>\n",
       "      <td>77.699386</td>\n",
       "      <td>13.009496</td>\n",
       "      <td>77.695999</td>\n",
       "      <td>1</td>\n",
       "      <td>27</td>\n",
       "      <td>15.0</td>\n",
       "      <td>23</td>\n",
       "      <td>6.633152</td>\n",
       "      <td>False</td>\n",
       "      <td>...</td>\n",
       "      <td>False</td>\n",
       "      <td>False</td>\n",
       "      <td>True</td>\n",
       "      <td>False</td>\n",
       "      <td>False</td>\n",
       "      <td>False</td>\n",
       "      <td>True</td>\n",
       "      <td>False</td>\n",
       "      <td>False</td>\n",
       "      <td>True</td>\n",
       "    </tr>\n",
       "    <tr>\n",
       "      <th>12</th>\n",
       "      <td>12.949934</td>\n",
       "      <td>77.699386</td>\n",
       "      <td>13.009096</td>\n",
       "      <td>77.670625</td>\n",
       "      <td>1</td>\n",
       "      <td>16</td>\n",
       "      <td>10.0</td>\n",
       "      <td>17</td>\n",
       "      <td>7.279327</td>\n",
       "      <td>False</td>\n",
       "      <td>...</td>\n",
       "      <td>False</td>\n",
       "      <td>False</td>\n",
       "      <td>True</td>\n",
       "      <td>False</td>\n",
       "      <td>False</td>\n",
       "      <td>False</td>\n",
       "      <td>True</td>\n",
       "      <td>False</td>\n",
       "      <td>False</td>\n",
       "      <td>True</td>\n",
       "    </tr>\n",
       "    <tr>\n",
       "      <th>13</th>\n",
       "      <td>12.949934</td>\n",
       "      <td>77.699386</td>\n",
       "      <td>12.923041</td>\n",
       "      <td>77.693237</td>\n",
       "      <td>0</td>\n",
       "      <td>17</td>\n",
       "      <td>15.0</td>\n",
       "      <td>10</td>\n",
       "      <td>3.063715</td>\n",
       "      <td>False</td>\n",
       "      <td>...</td>\n",
       "      <td>False</td>\n",
       "      <td>False</td>\n",
       "      <td>True</td>\n",
       "      <td>False</td>\n",
       "      <td>True</td>\n",
       "      <td>False</td>\n",
       "      <td>False</td>\n",
       "      <td>False</td>\n",
       "      <td>False</td>\n",
       "      <td>True</td>\n",
       "    </tr>\n",
       "    <tr>\n",
       "      <th>14</th>\n",
       "      <td>12.949934</td>\n",
       "      <td>77.699386</td>\n",
       "      <td>12.995662</td>\n",
       "      <td>77.674130</td>\n",
       "      <td>1</td>\n",
       "      <td>10</td>\n",
       "      <td>10.0</td>\n",
       "      <td>17</td>\n",
       "      <td>5.774401</td>\n",
       "      <td>False</td>\n",
       "      <td>...</td>\n",
       "      <td>False</td>\n",
       "      <td>False</td>\n",
       "      <td>True</td>\n",
       "      <td>False</td>\n",
       "      <td>False</td>\n",
       "      <td>True</td>\n",
       "      <td>False</td>\n",
       "      <td>True</td>\n",
       "      <td>False</td>\n",
       "      <td>False</td>\n",
       "    </tr>\n",
       "    <tr>\n",
       "      <th>15</th>\n",
       "      <td>12.949934</td>\n",
       "      <td>77.699386</td>\n",
       "      <td>12.984365</td>\n",
       "      <td>77.666155</td>\n",
       "      <td>2</td>\n",
       "      <td>32</td>\n",
       "      <td>10.0</td>\n",
       "      <td>21</td>\n",
       "      <td>5.255874</td>\n",
       "      <td>False</td>\n",
       "      <td>...</td>\n",
       "      <td>True</td>\n",
       "      <td>False</td>\n",
       "      <td>False</td>\n",
       "      <td>False</td>\n",
       "      <td>False</td>\n",
       "      <td>False</td>\n",
       "      <td>True</td>\n",
       "      <td>False</td>\n",
       "      <td>True</td>\n",
       "      <td>False</td>\n",
       "    </tr>\n",
       "    <tr>\n",
       "      <th>16</th>\n",
       "      <td>12.949934</td>\n",
       "      <td>77.699386</td>\n",
       "      <td>13.063284</td>\n",
       "      <td>77.745428</td>\n",
       "      <td>0</td>\n",
       "      <td>39</td>\n",
       "      <td>15.0</td>\n",
       "      <td>17</td>\n",
       "      <td>13.555163</td>\n",
       "      <td>False</td>\n",
       "      <td>...</td>\n",
       "      <td>False</td>\n",
       "      <td>True</td>\n",
       "      <td>False</td>\n",
       "      <td>False</td>\n",
       "      <td>False</td>\n",
       "      <td>True</td>\n",
       "      <td>False</td>\n",
       "      <td>False</td>\n",
       "      <td>True</td>\n",
       "      <td>False</td>\n",
       "    </tr>\n",
       "    <tr>\n",
       "      <th>17</th>\n",
       "      <td>12.949934</td>\n",
       "      <td>77.699386</td>\n",
       "      <td>13.059166</td>\n",
       "      <td>77.720709</td>\n",
       "      <td>0</td>\n",
       "      <td>20</td>\n",
       "      <td>10.0</td>\n",
       "      <td>22</td>\n",
       "      <td>12.363794</td>\n",
       "      <td>False</td>\n",
       "      <td>...</td>\n",
       "      <td>True</td>\n",
       "      <td>False</td>\n",
       "      <td>False</td>\n",
       "      <td>False</td>\n",
       "      <td>False</td>\n",
       "      <td>False</td>\n",
       "      <td>True</td>\n",
       "      <td>False</td>\n",
       "      <td>True</td>\n",
       "      <td>False</td>\n",
       "    </tr>\n",
       "    <tr>\n",
       "      <th>18</th>\n",
       "      <td>12.949934</td>\n",
       "      <td>77.699386</td>\n",
       "      <td>12.993284</td>\n",
       "      <td>77.675428</td>\n",
       "      <td>1</td>\n",
       "      <td>18</td>\n",
       "      <td>10.0</td>\n",
       "      <td>23</td>\n",
       "      <td>5.474911</td>\n",
       "      <td>False</td>\n",
       "      <td>...</td>\n",
       "      <td>False</td>\n",
       "      <td>True</td>\n",
       "      <td>False</td>\n",
       "      <td>False</td>\n",
       "      <td>False</td>\n",
       "      <td>True</td>\n",
       "      <td>False</td>\n",
       "      <td>False</td>\n",
       "      <td>True</td>\n",
       "      <td>False</td>\n",
       "    </tr>\n",
       "    <tr>\n",
       "      <th>19</th>\n",
       "      <td>12.949934</td>\n",
       "      <td>77.699386</td>\n",
       "      <td>13.079198</td>\n",
       "      <td>77.620997</td>\n",
       "      <td>1</td>\n",
       "      <td>12</td>\n",
       "      <td>5.0</td>\n",
       "      <td>22</td>\n",
       "      <td>16.694940</td>\n",
       "      <td>False</td>\n",
       "      <td>...</td>\n",
       "      <td>False</td>\n",
       "      <td>True</td>\n",
       "      <td>False</td>\n",
       "      <td>False</td>\n",
       "      <td>False</td>\n",
       "      <td>True</td>\n",
       "      <td>False</td>\n",
       "      <td>False</td>\n",
       "      <td>True</td>\n",
       "      <td>False</td>\n",
       "    </tr>\n",
       "    <tr>\n",
       "      <th>20</th>\n",
       "      <td>12.949934</td>\n",
       "      <td>77.699386</td>\n",
       "      <td>13.058453</td>\n",
       "      <td>77.723685</td>\n",
       "      <td>1</td>\n",
       "      <td>39</td>\n",
       "      <td>10.0</td>\n",
       "      <td>19</td>\n",
       "      <td>12.350607</td>\n",
       "      <td>False</td>\n",
       "      <td>...</td>\n",
       "      <td>False</td>\n",
       "      <td>False</td>\n",
       "      <td>True</td>\n",
       "      <td>False</td>\n",
       "      <td>False</td>\n",
       "      <td>False</td>\n",
       "      <td>True</td>\n",
       "      <td>True</td>\n",
       "      <td>False</td>\n",
       "      <td>False</td>\n",
       "    </tr>\n",
       "    <tr>\n",
       "      <th>21</th>\n",
       "      <td>12.949934</td>\n",
       "      <td>77.699386</td>\n",
       "      <td>12.936229</td>\n",
       "      <td>77.626791</td>\n",
       "      <td>1</td>\n",
       "      <td>31</td>\n",
       "      <td>15.0</td>\n",
       "      <td>20</td>\n",
       "      <td>8.013345</td>\n",
       "      <td>False</td>\n",
       "      <td>...</td>\n",
       "      <td>False</td>\n",
       "      <td>True</td>\n",
       "      <td>False</td>\n",
       "      <td>False</td>\n",
       "      <td>False</td>\n",
       "      <td>True</td>\n",
       "      <td>False</td>\n",
       "      <td>False</td>\n",
       "      <td>True</td>\n",
       "      <td>False</td>\n",
       "    </tr>\n",
       "    <tr>\n",
       "      <th>22</th>\n",
       "      <td>12.949934</td>\n",
       "      <td>77.699386</td>\n",
       "      <td>13.009496</td>\n",
       "      <td>77.695999</td>\n",
       "      <td>1</td>\n",
       "      <td>27</td>\n",
       "      <td>15.0</td>\n",
       "      <td>21</td>\n",
       "      <td>6.633152</td>\n",
       "      <td>False</td>\n",
       "      <td>...</td>\n",
       "      <td>False</td>\n",
       "      <td>False</td>\n",
       "      <td>True</td>\n",
       "      <td>False</td>\n",
       "      <td>True</td>\n",
       "      <td>False</td>\n",
       "      <td>False</td>\n",
       "      <td>True</td>\n",
       "      <td>False</td>\n",
       "      <td>False</td>\n",
       "    </tr>\n",
       "    <tr>\n",
       "      <th>23</th>\n",
       "      <td>12.949934</td>\n",
       "      <td>77.699386</td>\n",
       "      <td>13.049198</td>\n",
       "      <td>77.590997</td>\n",
       "      <td>0</td>\n",
       "      <td>16</td>\n",
       "      <td>5.0</td>\n",
       "      <td>8</td>\n",
       "      <td>16.116384</td>\n",
       "      <td>False</td>\n",
       "      <td>...</td>\n",
       "      <td>True</td>\n",
       "      <td>False</td>\n",
       "      <td>False</td>\n",
       "      <td>True</td>\n",
       "      <td>False</td>\n",
       "      <td>False</td>\n",
       "      <td>False</td>\n",
       "      <td>False</td>\n",
       "      <td>True</td>\n",
       "      <td>False</td>\n",
       "    </tr>\n",
       "    <tr>\n",
       "      <th>24</th>\n",
       "      <td>12.949934</td>\n",
       "      <td>77.699386</td>\n",
       "      <td>13.013298</td>\n",
       "      <td>77.694293</td>\n",
       "      <td>1</td>\n",
       "      <td>26</td>\n",
       "      <td>15.0</td>\n",
       "      <td>17</td>\n",
       "      <td>7.067333</td>\n",
       "      <td>False</td>\n",
       "      <td>...</td>\n",
       "      <td>False</td>\n",
       "      <td>False</td>\n",
       "      <td>True</td>\n",
       "      <td>False</td>\n",
       "      <td>False</td>\n",
       "      <td>False</td>\n",
       "      <td>True</td>\n",
       "      <td>True</td>\n",
       "      <td>False</td>\n",
       "      <td>False</td>\n",
       "    </tr>\n",
       "    <tr>\n",
       "      <th>25</th>\n",
       "      <td>12.949934</td>\n",
       "      <td>77.699386</td>\n",
       "      <td>13.068453</td>\n",
       "      <td>77.733685</td>\n",
       "      <td>1</td>\n",
       "      <td>22</td>\n",
       "      <td>15.0</td>\n",
       "      <td>21</td>\n",
       "      <td>13.692589</td>\n",
       "      <td>False</td>\n",
       "      <td>...</td>\n",
       "      <td>False</td>\n",
       "      <td>True</td>\n",
       "      <td>False</td>\n",
       "      <td>False</td>\n",
       "      <td>False</td>\n",
       "      <td>True</td>\n",
       "      <td>False</td>\n",
       "      <td>False</td>\n",
       "      <td>True</td>\n",
       "      <td>False</td>\n",
       "    </tr>\n",
       "    <tr>\n",
       "      <th>26</th>\n",
       "      <td>12.949934</td>\n",
       "      <td>77.699386</td>\n",
       "      <td>13.015662</td>\n",
       "      <td>77.694130</td>\n",
       "      <td>1</td>\n",
       "      <td>32</td>\n",
       "      <td>10.0</td>\n",
       "      <td>17</td>\n",
       "      <td>7.330775</td>\n",
       "      <td>False</td>\n",
       "      <td>...</td>\n",
       "      <td>True</td>\n",
       "      <td>False</td>\n",
       "      <td>False</td>\n",
       "      <td>False</td>\n",
       "      <td>True</td>\n",
       "      <td>False</td>\n",
       "      <td>False</td>\n",
       "      <td>False</td>\n",
       "      <td>True</td>\n",
       "      <td>False</td>\n",
       "    </tr>\n",
       "    <tr>\n",
       "      <th>27</th>\n",
       "      <td>12.949934</td>\n",
       "      <td>77.699386</td>\n",
       "      <td>12.999496</td>\n",
       "      <td>77.685999</td>\n",
       "      <td>1</td>\n",
       "      <td>30</td>\n",
       "      <td>15.0</td>\n",
       "      <td>20</td>\n",
       "      <td>5.698748</td>\n",
       "      <td>False</td>\n",
       "      <td>...</td>\n",
       "      <td>False</td>\n",
       "      <td>True</td>\n",
       "      <td>False</td>\n",
       "      <td>False</td>\n",
       "      <td>True</td>\n",
       "      <td>False</td>\n",
       "      <td>False</td>\n",
       "      <td>False</td>\n",
       "      <td>True</td>\n",
       "      <td>False</td>\n",
       "    </tr>\n",
       "    <tr>\n",
       "      <th>28</th>\n",
       "      <td>12.949934</td>\n",
       "      <td>77.699386</td>\n",
       "      <td>12.990324</td>\n",
       "      <td>77.665748</td>\n",
       "      <td>1</td>\n",
       "      <td>21</td>\n",
       "      <td>10.0</td>\n",
       "      <td>11</td>\n",
       "      <td>5.784132</td>\n",
       "      <td>False</td>\n",
       "      <td>...</td>\n",
       "      <td>True</td>\n",
       "      <td>False</td>\n",
       "      <td>False</td>\n",
       "      <td>False</td>\n",
       "      <td>False</td>\n",
       "      <td>True</td>\n",
       "      <td>False</td>\n",
       "      <td>False</td>\n",
       "      <td>True</td>\n",
       "      <td>False</td>\n",
       "    </tr>\n",
       "    <tr>\n",
       "      <th>29</th>\n",
       "      <td>12.949934</td>\n",
       "      <td>77.699386</td>\n",
       "      <td>13.065662</td>\n",
       "      <td>77.744130</td>\n",
       "      <td>0</td>\n",
       "      <td>25</td>\n",
       "      <td>10.0</td>\n",
       "      <td>18</td>\n",
       "      <td>13.751161</td>\n",
       "      <td>False</td>\n",
       "      <td>...</td>\n",
       "      <td>True</td>\n",
       "      <td>False</td>\n",
       "      <td>False</td>\n",
       "      <td>True</td>\n",
       "      <td>False</td>\n",
       "      <td>False</td>\n",
       "      <td>False</td>\n",
       "      <td>False</td>\n",
       "      <td>True</td>\n",
       "      <td>False</td>\n",
       "    </tr>\n",
       "    <tr>\n",
       "      <th>30</th>\n",
       "      <td>12.949934</td>\n",
       "      <td>77.699386</td>\n",
       "      <td>13.050221</td>\n",
       "      <td>77.725396</td>\n",
       "      <td>1</td>\n",
       "      <td>27</td>\n",
       "      <td>5.0</td>\n",
       "      <td>19</td>\n",
       "      <td>11.501968</td>\n",
       "      <td>False</td>\n",
       "      <td>...</td>\n",
       "      <td>False</td>\n",
       "      <td>False</td>\n",
       "      <td>True</td>\n",
       "      <td>True</td>\n",
       "      <td>False</td>\n",
       "      <td>False</td>\n",
       "      <td>False</td>\n",
       "      <td>True</td>\n",
       "      <td>False</td>\n",
       "      <td>False</td>\n",
       "    </tr>\n",
       "    <tr>\n",
       "      <th>31</th>\n",
       "      <td>12.949934</td>\n",
       "      <td>77.699386</td>\n",
       "      <td>12.992161</td>\n",
       "      <td>77.616014</td>\n",
       "      <td>1</td>\n",
       "      <td>29</td>\n",
       "      <td>5.0</td>\n",
       "      <td>11</td>\n",
       "      <td>10.181359</td>\n",
       "      <td>False</td>\n",
       "      <td>...</td>\n",
       "      <td>True</td>\n",
       "      <td>False</td>\n",
       "      <td>False</td>\n",
       "      <td>False</td>\n",
       "      <td>True</td>\n",
       "      <td>False</td>\n",
       "      <td>False</td>\n",
       "      <td>False</td>\n",
       "      <td>True</td>\n",
       "      <td>False</td>\n",
       "    </tr>\n",
       "  </tbody>\n",
       "</table>\n",
       "<p>32 rows × 29 columns</p>\n",
       "</div>"
      ],
      "text/plain": [
       "    Restaurant_latitude  Restaurant_longitude  Delivery_location_latitude  \\\n",
       "0             12.949934             77.699386                   13.015377   \n",
       "1             12.949934             77.699386                   12.944179   \n",
       "2             12.949934             77.699386                   13.019096   \n",
       "3             12.949934             77.699386                   13.018453   \n",
       "4             12.949934             77.699386                   13.044179   \n",
       "5             12.949934             77.699386                   12.984179   \n",
       "6             12.949934             77.699386                   12.994365   \n",
       "7             12.949934             77.699386                   12.989934   \n",
       "8             12.949934             77.699386                   13.005662   \n",
       "9             12.949934             77.699386                   13.063298   \n",
       "10            12.949934             77.699386                   13.069496   \n",
       "11            12.949934             77.699386                   13.009496   \n",
       "12            12.949934             77.699386                   13.009096   \n",
       "13            12.949934             77.699386                   12.923041   \n",
       "14            12.949934             77.699386                   12.995662   \n",
       "15            12.949934             77.699386                   12.984365   \n",
       "16            12.949934             77.699386                   13.063284   \n",
       "17            12.949934             77.699386                   13.059166   \n",
       "18            12.949934             77.699386                   12.993284   \n",
       "19            12.949934             77.699386                   13.079198   \n",
       "20            12.949934             77.699386                   13.058453   \n",
       "21            12.949934             77.699386                   12.936229   \n",
       "22            12.949934             77.699386                   13.009496   \n",
       "23            12.949934             77.699386                   13.049198   \n",
       "24            12.949934             77.699386                   13.013298   \n",
       "25            12.949934             77.699386                   13.068453   \n",
       "26            12.949934             77.699386                   13.015662   \n",
       "27            12.949934             77.699386                   12.999496   \n",
       "28            12.949934             77.699386                   12.990324   \n",
       "29            12.949934             77.699386                   13.065662   \n",
       "30            12.949934             77.699386                   13.050221   \n",
       "31            12.949934             77.699386                   12.992161   \n",
       "\n",
       "    Delivery_location_longitude  multiple_deliveries  Time_taken_min  \\\n",
       "0                     77.736664                    0              21   \n",
       "1                     77.625797                    0              27   \n",
       "2                     77.680625                    1              15   \n",
       "3                     77.683685                    1              16   \n",
       "4                     77.725797                    3              48   \n",
       "5                     77.665797                    1              29   \n",
       "6                     77.676155                    1              12   \n",
       "7                     77.739386                    1              36   \n",
       "8                     77.684130                    1              40   \n",
       "9                     77.744293                    0              30   \n",
       "10                    77.755999                    0              15   \n",
       "11                    77.695999                    1              27   \n",
       "12                    77.670625                    1              16   \n",
       "13                    77.693237                    0              17   \n",
       "14                    77.674130                    1              10   \n",
       "15                    77.666155                    2              32   \n",
       "16                    77.745428                    0              39   \n",
       "17                    77.720709                    0              20   \n",
       "18                    77.675428                    1              18   \n",
       "19                    77.620997                    1              12   \n",
       "20                    77.723685                    1              39   \n",
       "21                    77.626791                    1              31   \n",
       "22                    77.695999                    1              27   \n",
       "23                    77.590997                    0              16   \n",
       "24                    77.694293                    1              26   \n",
       "25                    77.733685                    1              22   \n",
       "26                    77.694130                    1              32   \n",
       "27                    77.685999                    1              30   \n",
       "28                    77.665748                    1              21   \n",
       "29                    77.744130                    0              25   \n",
       "30                    77.725396                    1              27   \n",
       "31                    77.616014                    1              29   \n",
       "\n",
       "    Time_Difference  Order_Hour   Distance  Weather_conditions_Cloudy  ...  \\\n",
       "0              10.0          14   8.322774                      False  ...   \n",
       "1              10.0          10   8.000332                      False  ...   \n",
       "2               5.0          15   7.954587                      False  ...   \n",
       "3              15.0          15   7.806589                      False  ...   \n",
       "4               5.0          19  10.863226                       True  ...   \n",
       "5              10.0          21   5.267558                      False  ...   \n",
       "6              10.0          22   5.544825                      False  ...   \n",
       "7              15.0          13   6.210416                      False  ...   \n",
       "8              10.0          23   6.413372                      False  ...   \n",
       "9              10.0          18  13.511847                      False  ...   \n",
       "10             10.0          22  14.641328                      False  ...   \n",
       "11             15.0          23   6.633152                      False  ...   \n",
       "12             10.0          17   7.279327                      False  ...   \n",
       "13             15.0          10   3.063715                      False  ...   \n",
       "14             10.0          17   5.774401                      False  ...   \n",
       "15             10.0          21   5.255874                      False  ...   \n",
       "16             15.0          17  13.555163                      False  ...   \n",
       "17             10.0          22  12.363794                      False  ...   \n",
       "18             10.0          23   5.474911                      False  ...   \n",
       "19              5.0          22  16.694940                      False  ...   \n",
       "20             10.0          19  12.350607                      False  ...   \n",
       "21             15.0          20   8.013345                      False  ...   \n",
       "22             15.0          21   6.633152                      False  ...   \n",
       "23              5.0           8  16.116384                      False  ...   \n",
       "24             15.0          17   7.067333                      False  ...   \n",
       "25             15.0          21  13.692589                      False  ...   \n",
       "26             10.0          17   7.330775                      False  ...   \n",
       "27             15.0          20   5.698748                      False  ...   \n",
       "28             10.0          11   5.784132                      False  ...   \n",
       "29             10.0          18  13.751161                      False  ...   \n",
       "30              5.0          19  11.501968                      False  ...   \n",
       "31              5.0          11  10.181359                      False  ...   \n",
       "\n",
       "    Vehicle_condition_0  Vehicle_condition_1  Vehicle_condition_2  \\\n",
       "0                  True                False                False   \n",
       "1                  True                False                False   \n",
       "2                 False                False                 True   \n",
       "3                  True                False                False   \n",
       "4                  True                False                False   \n",
       "5                  True                False                False   \n",
       "6                 False                 True                False   \n",
       "7                 False                False                 True   \n",
       "8                 False                 True                False   \n",
       "9                 False                False                 True   \n",
       "10                 True                False                False   \n",
       "11                False                False                 True   \n",
       "12                False                False                 True   \n",
       "13                False                False                 True   \n",
       "14                False                False                 True   \n",
       "15                 True                False                False   \n",
       "16                False                 True                False   \n",
       "17                 True                False                False   \n",
       "18                False                 True                False   \n",
       "19                False                 True                False   \n",
       "20                False                False                 True   \n",
       "21                False                 True                False   \n",
       "22                False                False                 True   \n",
       "23                 True                False                False   \n",
       "24                False                False                 True   \n",
       "25                False                 True                False   \n",
       "26                 True                False                False   \n",
       "27                False                 True                False   \n",
       "28                 True                False                False   \n",
       "29                 True                False                False   \n",
       "30                False                False                 True   \n",
       "31                 True                False                False   \n",
       "\n",
       "    Type_of_order_Buffet  Type_of_order_Drinks  Type_of_order_Meal  \\\n",
       "0                  False                  True               False   \n",
       "1                  False                 False                True   \n",
       "2                  False                 False               False   \n",
       "3                  False                 False               False   \n",
       "4                  False                 False                True   \n",
       "5                  False                  True               False   \n",
       "6                   True                 False               False   \n",
       "7                  False                 False               False   \n",
       "8                  False                 False                True   \n",
       "9                  False                  True               False   \n",
       "10                 False                  True               False   \n",
       "11                 False                 False               False   \n",
       "12                 False                 False               False   \n",
       "13                 False                  True               False   \n",
       "14                 False                 False                True   \n",
       "15                 False                 False               False   \n",
       "16                 False                 False                True   \n",
       "17                 False                 False               False   \n",
       "18                 False                 False                True   \n",
       "19                 False                 False                True   \n",
       "20                 False                 False               False   \n",
       "21                 False                 False                True   \n",
       "22                 False                  True               False   \n",
       "23                  True                 False               False   \n",
       "24                 False                 False               False   \n",
       "25                 False                 False                True   \n",
       "26                 False                  True               False   \n",
       "27                 False                  True               False   \n",
       "28                 False                 False                True   \n",
       "29                  True                 False               False   \n",
       "30                  True                 False               False   \n",
       "31                 False                  True               False   \n",
       "\n",
       "    Type_of_order_Snack  Type_of_vehicle_electric_scooter  \\\n",
       "0                 False                             False   \n",
       "1                 False                             False   \n",
       "2                  True                              True   \n",
       "3                  True                             False   \n",
       "4                 False                             False   \n",
       "5                 False                             False   \n",
       "6                 False                             False   \n",
       "7                  True                             False   \n",
       "8                 False                             False   \n",
       "9                 False                             False   \n",
       "10                False                             False   \n",
       "11                 True                             False   \n",
       "12                 True                             False   \n",
       "13                False                             False   \n",
       "14                False                              True   \n",
       "15                 True                             False   \n",
       "16                False                             False   \n",
       "17                 True                             False   \n",
       "18                False                             False   \n",
       "19                False                             False   \n",
       "20                 True                              True   \n",
       "21                False                             False   \n",
       "22                False                              True   \n",
       "23                False                             False   \n",
       "24                 True                              True   \n",
       "25                False                             False   \n",
       "26                False                             False   \n",
       "27                False                             False   \n",
       "28                False                             False   \n",
       "29                False                             False   \n",
       "30                False                              True   \n",
       "31                False                             False   \n",
       "\n",
       "    Type_of_vehicle_motorcycle  Type_of_vehicle_scooter  \n",
       "0                         True                    False  \n",
       "1                         True                    False  \n",
       "2                        False                    False  \n",
       "3                         True                    False  \n",
       "4                         True                    False  \n",
       "5                         True                    False  \n",
       "6                        False                     True  \n",
       "7                        False                     True  \n",
       "8                         True                    False  \n",
       "9                        False                     True  \n",
       "10                        True                    False  \n",
       "11                       False                     True  \n",
       "12                       False                     True  \n",
       "13                       False                     True  \n",
       "14                       False                    False  \n",
       "15                        True                    False  \n",
       "16                        True                    False  \n",
       "17                        True                    False  \n",
       "18                        True                    False  \n",
       "19                        True                    False  \n",
       "20                       False                    False  \n",
       "21                        True                    False  \n",
       "22                       False                    False  \n",
       "23                        True                    False  \n",
       "24                       False                    False  \n",
       "25                        True                    False  \n",
       "26                        True                    False  \n",
       "27                        True                    False  \n",
       "28                        True                    False  \n",
       "29                        True                    False  \n",
       "30                       False                    False  \n",
       "31                        True                    False  \n",
       "\n",
       "[32 rows x 29 columns]"
      ]
     },
     "execution_count": 178,
     "metadata": {},
     "output_type": "execute_result"
    }
   ],
   "source": [
    "df"
   ]
  },
  {
   "cell_type": "code",
   "execution_count": null,
   "id": "86fccd68-9f3f-43de-a770-b0a52bb55943",
   "metadata": {},
   "outputs": [],
   "source": []
  }
 ],
 "metadata": {
  "kernelspec": {
   "display_name": "Python 3 (ipykernel)",
   "language": "python",
   "name": "python3"
  },
  "language_info": {
   "codemirror_mode": {
    "name": "ipython",
    "version": 3
   },
   "file_extension": ".py",
   "mimetype": "text/x-python",
   "name": "python",
   "nbconvert_exporter": "python",
   "pygments_lexer": "ipython3",
   "version": "3.12.4"
  }
 },
 "nbformat": 4,
 "nbformat_minor": 5
}
